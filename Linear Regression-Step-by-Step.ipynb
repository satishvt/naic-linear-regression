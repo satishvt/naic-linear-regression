{
 "cells": [
  {
   "cell_type": "markdown",
   "metadata": {},
   "source": [
    "<font color='grey' size='2'>\n",
    "    <font size='5'> Table of Contents </font><p>\n",
    "    <a href=\"#overall-summary\"> Overall Summary </a><p>\n",
    "    <a href=\"#prework\"> Packages & Data Loading </a><p>\n",
    "    <a href=\"#step1\"> Step 1 - Training Data </a><p>\n",
    "    <a href=\"#step2\"> Step 2 - Summary Statistics</a><p>\n",
    "    <a href=\"#step3\"> Step 3 - Box Plots</a><p>\n",
    "    <a href=\"#step4\"> Step 4 - Scatterplot & Correlation Plot</a><p>\n",
    "    <a href=\"#step5\"> Step 5 - Transforming Categorical variables</a><p>\n",
    "    <a href=\"#step6\"> Step 6 - First Linear Regression (on all variables)</a><p>\n",
    "    <a href=\"#step7\"> Step 7 - Residual Plots</a><p>\n",
    "    <a href=\"#step8\"> Step 8 - Influential Observations</a><p>\n",
    "    <a href=\"#step9\"> Step 9 - Multi-Collinearity</a><p>\n",
    "    <a href=\"#step10\"> Step 10 - Heteroscadasticity Test</a><p>\n",
    "    <a href=\"#step11\"> Step 11 - Normality of Response Variable & Transformation</a><p>\n",
    "    <a href=\"#step12\"> Step 12 - Validation Analysis</a><p>\n",
    "    <a href=\"#step13\"> Step 13 - Model on Full Data</a><p>\n",
    "    "
   ]
  },
  {
   "cell_type": "markdown",
   "metadata": {},
   "source": [
    "<a id=\"overall-summary\"></a>\n",
    "### Overall Summary"
   ]
  },
  {
   "cell_type": "markdown",
   "metadata": {},
   "source": [
    "+ Detailed Steps have been followed to generate a linear model\n",
    "+ Data was loaded and NA data was cured \n",
    "+ Split the data into training & validation\n",
    "+ EDA was performed on the data\n",
    "+ Basic Linear Regression Model was developed with all the variables\n",
    "+ Model was developed removing Influential observations\n",
    "+ Collinearity analysis was performed and unnecessary variables were remove\n",
    "+ Response & Regressors were transformed andmodels were developed accordingly\n",
    "+ Validation Analysis was peprformed & a Final model was developed"
   ]
  },
  {
   "cell_type": "markdown",
   "metadata": {},
   "source": [
    "<a id=\"prework\"></a>\n",
    "### Setting up workspace & Loading Full Data"
   ]
  },
  {
   "cell_type": "code",
   "execution_count": 207,
   "metadata": {},
   "outputs": [],
   "source": [
    ".libPaths(c(\"C:/Users/satish.vengla/Documents/R/win-library/3.4\",\"C:/Program Files/R/R-3.4.2/library\"))"
   ]
  },
  {
   "cell_type": "code",
   "execution_count": 208,
   "metadata": {},
   "outputs": [],
   "source": [
    "library(ggplot2)\n",
    "library(tidyr)\n",
    "library(dplyr)\n",
    "library(MASS)\n",
    "library(tidyverse)\n",
    "library(car)\n",
    "library(perturb)\n",
    "library(corpcor)\n",
    "library(tidyselect)\n",
    "library(tidyverse)\n",
    "library(corpcor)\n",
    "library(dplyr)\n",
    "library(corrplot)\n",
    "library(lmSupport)\n",
    "library('psych')"
   ]
  },
  {
   "cell_type": "code",
   "execution_count": 209,
   "metadata": {},
   "outputs": [],
   "source": [
    "####\n",
    "setwd('D:/iCloudDrive/ISB/Term1/SA2/Assignment1/')\n",
    "\n",
    "####\n",
    "StudentResidualPlot <- function(model, comment){\n",
    "  stu.resid <- studres(model)  \n",
    "  hist(stu.resid, freq=FALSE,     \n",
    "       main=comment) \n",
    "  xfit<-seq(min(stu.resid),max(stu.resid),length=80)  \n",
    "  yfit<-dnorm(xfit)  \n",
    "  lines(xfit, yfit)\n",
    "  \n",
    "}\n",
    "\n",
    "CustomResidualPlot<- function(model){\n",
    "  residualPlot(model, id.n=5)\n",
    "  residualPlots(model,id.n=3)\n",
    "}\n",
    "\n",
    "DeletionDiagonsitics<- function(model, cutoff){\n",
    "  influencePlot(model,id.n=3) # A user friendly representation of the above\n",
    "  plot(model, which=4, cook.levels=cutoff)\n",
    "}"
   ]
  },
  {
   "cell_type": "markdown",
   "metadata": {},
   "source": [
    "<a id=\"step1\"></a>\n",
    "### Step 1 : Creating Training Data & Loading 80% from full-cut"
   ]
  },
  {
   "cell_type": "code",
   "execution_count": 210,
   "metadata": {},
   "outputs": [
    {
     "name": "stdout",
     "output_type": "stream",
     "text": [
      "[1] \"Training Rows Count\"\n"
     ]
    },
    {
     "data": {
      "text/html": [
       "307"
      ],
      "text/latex": [
       "307"
      ],
      "text/markdown": [
       "307"
      ],
      "text/plain": [
       "[1] 307"
      ]
     },
     "metadata": {},
     "output_type": "display_data"
    }
   ],
   "source": [
    "NAICDataFull<-read.csv(\"NAICExpense.csv\", header = TRUE, stringsAsFactors = F, na.strings = c(\"NA\", \"N/A\", \"\"))\n",
    "NAICDataFull$EXPENSES[NAICDataFull$EXPENSES<0] <- 0\n",
    "\n",
    "NAICDataFull[is.na(NAICDataFull)] <- 0\n",
    "\n",
    "trngrows <- round(nrow(NAICDataFull)*0.8,0)\n",
    "print('Training Rows Count')\n",
    "trngrows\n",
    "NAICData <- NAICDataFull[(0:trngrows),]\n",
    "NAICDataVal <- NAICDataFull[(308:384),]"
   ]
  },
  {
   "cell_type": "code",
   "execution_count": 211,
   "metadata": {},
   "outputs": [],
   "source": [
    "Quant_colnames <- c(\"RBC\",\"EXPENSES\",\"STAFFWAGE\",\"AGENTWAGE\",\"LONGLOSS\",\n",
    "                    \"SHORTLOSS\",\"GPWPERSONAL\",\"GPWCOMM\",\"ASSETS\",\n",
    "                    \"CASH\",\"LIQUIDRATIO\")\n",
    "Qual_colnames <- c(\"COMPANY_NAME\",\"GROUP\", \"MUTUAL\", \"STOCK\")\n",
    "\n",
    "NAICData <- dplyr::select(NAICData,c(Quant_colnames, Qual_colnames))"
   ]
  },
  {
   "cell_type": "markdown",
   "metadata": {},
   "source": [
    "<a id=\"step2\"></a>\n",
    "### Step 2: Summary Statistics"
   ]
  },
  {
   "cell_type": "markdown",
   "metadata": {},
   "source": [
    "+ Summary Stats (Summary, describe, histogram) reveal the following:\n",
    "    + STAFFWAGE and AGENTWAGE seem to have central tendency (mean and mode are nearby)\n",
    "    + RBC, EXPENSES, LONGLOSS, SHORTLOSS, GPWPERSONAL, GPWCOMM, CASH, ASSETS are right skewed\n",
    "    + LIQUIDRATIO seems to be slighty left skewed"
   ]
  },
  {
   "cell_type": "code",
   "execution_count": 212,
   "metadata": {},
   "outputs": [
    {
     "data": {
      "text/plain": [
       "      RBC               EXPENSES          STAFFWAGE        AGENTWAGE     \n",
       " Min.   :0.000e+00   Min.   :0.000000   Min.   : 51.73   Min.   :  0.00  \n",
       " 1st Qu.:6.171e+08   1st Qu.:0.001470   1st Qu.: 80.06   1st Qu.: 73.87  \n",
       " Median :2.690e+09   Median :0.007828   Median : 84.36   Median : 77.83  \n",
       " Mean   :2.154e+10   Mean   :0.045892   Mean   : 86.92   Mean   : 76.68  \n",
       " 3rd Qu.:1.111e+10   3rd Qu.:0.029756   3rd Qu.: 93.69   3rd Qu.: 84.49  \n",
       " Max.   :6.253e+11   Max.   :1.236946   Max.   :137.48   Max.   :126.17  \n",
       "    LONGLOSS            SHORTLOSS           GPWPERSONAL        \n",
       " Min.   :-0.0706227   Min.   :-0.0031685   Min.   :-0.0037514  \n",
       " 1st Qu.: 0.0000001   1st Qu.: 0.0002339   1st Qu.: 0.0000000  \n",
       " Median : 0.0017512   Median : 0.0039328   Median : 0.0007464  \n",
       " Mean   : 0.0268291   Mean   : 0.0385752   Mean   : 0.0607013  \n",
       " 3rd Qu.: 0.0108458   3rd Qu.: 0.0217455   3rd Qu.: 0.0305181  \n",
       " Max.   : 0.8539152   Max.   : 1.1710587   Max.   : 1.8224858  \n",
       "    GPWCOMM             ASSETS              CASH           LIQUIDRATIO     \n",
       " Min.   :0.000000   Min.   :0.000321   Min.   :0.000018   Min.   :  1.788  \n",
       " 1st Qu.:0.003574   1st Qu.:0.011676   1st Qu.:0.010013   1st Qu.: 86.302  \n",
       " Median :0.021926   Median :0.052830   Median :0.044122   Median : 95.474  \n",
       " Mean   :0.122739   Mean   :0.365685   Mean   :0.340714   Mean   : 91.651  \n",
       " 3rd Qu.:0.086353   3rd Qu.:0.193568   3rd Qu.:0.183170   3rd Qu.:103.344  \n",
       " Max.   :4.189401   Max.   :8.705380   Max.   :8.823477   Max.   :127.858  \n",
       " COMPANY_NAME           GROUP            MUTUAL           STOCK       \n",
       " Length:307         Min.   :0.0000   Min.   :0.0000   Min.   :0.0000  \n",
       " Class :character   1st Qu.:0.0000   1st Qu.:0.0000   1st Qu.:0.0000  \n",
       " Mode  :character   Median :1.0000   Median :0.0000   Median :1.0000  \n",
       "                    Mean   :0.6059   Mean   :0.2215   Mean   :0.6417  \n",
       "                    3rd Qu.:1.0000   3rd Qu.:0.0000   3rd Qu.:1.0000  \n",
       "                    Max.   :1.0000   Max.   :1.0000   Max.   :1.0000  "
      ]
     },
     "metadata": {},
     "output_type": "display_data"
    }
   ],
   "source": [
    "summary(NAICData)"
   ]
  },
  {
   "cell_type": "code",
   "execution_count": 213,
   "metadata": {},
   "outputs": [
    {
     "name": "stderr",
     "output_type": "stream",
     "text": [
      "Warning message in describe(NAICData):\n",
      "\"NAs introduced by coercion\"Warning message in FUN(newX[, i], ...):\n",
      "\"no non-missing arguments to min; returning Inf\"Warning message in FUN(newX[, i], ...):\n",
      "\"no non-missing arguments to max; returning -Inf\""
     ]
    },
    {
     "data": {
      "text/html": [
       "<table>\n",
       "<thead><tr><th></th><th scope=col>vars</th><th scope=col>n</th><th scope=col>mean</th><th scope=col>sd</th><th scope=col>median</th><th scope=col>trimmed</th><th scope=col>mad</th><th scope=col>min</th><th scope=col>max</th><th scope=col>range</th><th scope=col>skew</th><th scope=col>kurtosis</th><th scope=col>se</th></tr></thead>\n",
       "<tbody>\n",
       "\t<tr><th scope=row>RBC</th><td> 1          </td><td>307         </td><td>2.154431e+10</td><td>6.379138e+10</td><td>2.689972e+09</td><td>7.175603e+09</td><td>3.670221e+09</td><td> 0.000000000</td><td>6.252900e+11</td><td>6.252900e+11</td><td> 5.7097198  </td><td>39.1865052  </td><td>3.640766e+09</td></tr>\n",
       "\t<tr><th scope=row>EXPENSES</th><td> 2          </td><td>307         </td><td>4.589238e-02</td><td>1.319982e-01</td><td>7.828007e-03</td><td>1.745972e-02</td><td>1.084249e-02</td><td> 0.000000000</td><td>1.236946e+00</td><td>1.236946e+00</td><td> 6.1255412  </td><td>45.1559585  </td><td>7.533535e-03</td></tr>\n",
       "\t<tr><th scope=row>STAFFWAGE</th><td> 3          </td><td>307         </td><td>8.692253e+01</td><td>1.196137e+01</td><td>8.435856e+01</td><td>8.634166e+01</td><td>1.020698e+01</td><td>51.726893750</td><td>1.374810e+02</td><td>8.575407e+01</td><td> 1.0202161  </td><td> 3.9886115  </td><td>6.826714e-01</td></tr>\n",
       "\t<tr><th scope=row>AGENTWAGE</th><td> 4          </td><td>307         </td><td>7.668318e+01</td><td>1.789094e+01</td><td>7.783374e+01</td><td>7.921919e+01</td><td>6.691494e+00</td><td> 0.000000000</td><td>1.261703e+02</td><td>1.261703e+02</td><td>-2.8867004  </td><td>10.7919030  </td><td>1.021090e+00</td></tr>\n",
       "\t<tr><th scope=row>LONGLOSS</th><td> 5          </td><td>307         </td><td>2.682912e-02</td><td>9.095440e-02</td><td>1.751220e-03</td><td>6.762235e-03</td><td>2.596359e-03</td><td>-0.070622667</td><td>8.539152e-01</td><td>9.245379e-01</td><td> 6.0236694  </td><td>43.0738485  </td><td>5.191042e-03</td></tr>\n",
       "\t<tr><th scope=row>SHORTLOSS</th><td> 6          </td><td>307         </td><td>3.857518e-02</td><td>1.278760e-01</td><td>3.932766e-03</td><td>1.142684e-02</td><td>5.830719e-03</td><td>-0.003168545</td><td>1.171059e+00</td><td>1.174227e+00</td><td> 6.4976310  </td><td>47.5159020  </td><td>7.298266e-03</td></tr>\n",
       "\t<tr><th scope=row>GPWPERSONAL</th><td> 7          </td><td>307         </td><td>6.070132e-02</td><td>1.906326e-01</td><td>7.464290e-04</td><td>1.544072e-02</td><td>1.106656e-03</td><td>-0.003751367</td><td>1.822486e+00</td><td>1.826237e+00</td><td> 5.7510297  </td><td>41.4806532  </td><td>1.087998e-02</td></tr>\n",
       "\t<tr><th scope=row>GPWCOMM</th><td> 8          </td><td>307         </td><td>1.227387e-01</td><td>3.368582e-01</td><td>2.192568e-02</td><td>5.121859e-02</td><td>3.153368e-02</td><td> 0.000000000</td><td>4.189401e+00</td><td>4.189401e+00</td><td> 7.3076666  </td><td>73.2939457  </td><td>1.922551e-02</td></tr>\n",
       "\t<tr><th scope=row>ASSETS</th><td> 9          </td><td>307         </td><td>3.656852e-01</td><td>1.079539e+00</td><td>5.283041e-02</td><td>1.242967e-01</td><td>7.057677e-02</td><td> 0.000320584</td><td>8.705380e+00</td><td>8.705059e+00</td><td> 5.5305346  </td><td>34.3651280  </td><td>6.161254e-02</td></tr>\n",
       "\t<tr><th scope=row>CASH</th><td>10          </td><td>307         </td><td>3.407140e-01</td><td>1.030084e+00</td><td>4.412212e-02</td><td>1.143066e-01</td><td>5.913367e-02</td><td> 0.000017985</td><td>8.823477e+00</td><td>8.823459e+00</td><td> 5.8007926  </td><td>38.0511199  </td><td>5.878999e-02</td></tr>\n",
       "\t<tr><th scope=row>LIQUIDRATIO</th><td>11          </td><td>307         </td><td>9.165096e+01</td><td>1.756573e+01</td><td>9.547438e+01</td><td>9.433786e+01</td><td>1.228390e+01</td><td> 1.788265759</td><td>1.278575e+02</td><td>1.260693e+02</td><td>-2.1222913  </td><td> 6.4831318  </td><td>1.002529e+00</td></tr>\n",
       "\t<tr><th scope=row>COMPANY_NAME*</th><td>12          </td><td>307         </td><td>         NaN</td><td>          NA</td><td>          NA</td><td>         NaN</td><td>          NA</td><td>         Inf</td><td>        -Inf</td><td>        -Inf</td><td>        NA  </td><td>        NA  </td><td>          NA</td></tr>\n",
       "\t<tr><th scope=row>GROUP</th><td>13          </td><td>307         </td><td>6.058632e-01</td><td>4.894623e-01</td><td>1.000000e+00</td><td>6.315789e-01</td><td>0.000000e+00</td><td> 0.000000000</td><td>1.000000e+00</td><td>1.000000e+00</td><td>-0.4311603  </td><td>-1.8199973  </td><td>2.793509e-02</td></tr>\n",
       "\t<tr><th scope=row>MUTUAL</th><td>14          </td><td>307         </td><td>2.214984e-01</td><td>4.159331e-01</td><td>0.000000e+00</td><td>1.538462e-01</td><td>0.000000e+00</td><td> 0.000000000</td><td>1.000000e+00</td><td>1.000000e+00</td><td> 1.3348033  </td><td>-0.2189816  </td><td>2.373856e-02</td></tr>\n",
       "\t<tr><th scope=row>STOCK</th><td>15          </td><td>307         </td><td>6.416938e-01</td><td>4.802856e-01</td><td>1.000000e+00</td><td>6.761134e-01</td><td>0.000000e+00</td><td> 0.000000000</td><td>1.000000e+00</td><td>1.000000e+00</td><td>-0.5881179  </td><td>-1.6594911  </td><td>2.741135e-02</td></tr>\n",
       "</tbody>\n",
       "</table>\n"
      ],
      "text/latex": [
       "\\begin{tabular}{r|lllllllllllll}\n",
       "  & vars & n & mean & sd & median & trimmed & mad & min & max & range & skew & kurtosis & se\\\\\n",
       "\\hline\n",
       "\tRBC &  1           & 307          & 2.154431e+10 & 6.379138e+10 & 2.689972e+09 & 7.175603e+09 & 3.670221e+09 &  0.000000000 & 6.252900e+11 & 6.252900e+11 &  5.7097198   & 39.1865052   & 3.640766e+09\\\\\n",
       "\tEXPENSES &  2           & 307          & 4.589238e-02 & 1.319982e-01 & 7.828007e-03 & 1.745972e-02 & 1.084249e-02 &  0.000000000 & 1.236946e+00 & 1.236946e+00 &  6.1255412   & 45.1559585   & 7.533535e-03\\\\\n",
       "\tSTAFFWAGE &  3           & 307          & 8.692253e+01 & 1.196137e+01 & 8.435856e+01 & 8.634166e+01 & 1.020698e+01 & 51.726893750 & 1.374810e+02 & 8.575407e+01 &  1.0202161   &  3.9886115   & 6.826714e-01\\\\\n",
       "\tAGENTWAGE &  4           & 307          & 7.668318e+01 & 1.789094e+01 & 7.783374e+01 & 7.921919e+01 & 6.691494e+00 &  0.000000000 & 1.261703e+02 & 1.261703e+02 & -2.8867004   & 10.7919030   & 1.021090e+00\\\\\n",
       "\tLONGLOSS &  5           & 307          & 2.682912e-02 & 9.095440e-02 & 1.751220e-03 & 6.762235e-03 & 2.596359e-03 & -0.070622667 & 8.539152e-01 & 9.245379e-01 &  6.0236694   & 43.0738485   & 5.191042e-03\\\\\n",
       "\tSHORTLOSS &  6           & 307          & 3.857518e-02 & 1.278760e-01 & 3.932766e-03 & 1.142684e-02 & 5.830719e-03 & -0.003168545 & 1.171059e+00 & 1.174227e+00 &  6.4976310   & 47.5159020   & 7.298266e-03\\\\\n",
       "\tGPWPERSONAL &  7           & 307          & 6.070132e-02 & 1.906326e-01 & 7.464290e-04 & 1.544072e-02 & 1.106656e-03 & -0.003751367 & 1.822486e+00 & 1.826237e+00 &  5.7510297   & 41.4806532   & 1.087998e-02\\\\\n",
       "\tGPWCOMM &  8           & 307          & 1.227387e-01 & 3.368582e-01 & 2.192568e-02 & 5.121859e-02 & 3.153368e-02 &  0.000000000 & 4.189401e+00 & 4.189401e+00 &  7.3076666   & 73.2939457   & 1.922551e-02\\\\\n",
       "\tASSETS &  9           & 307          & 3.656852e-01 & 1.079539e+00 & 5.283041e-02 & 1.242967e-01 & 7.057677e-02 &  0.000320584 & 8.705380e+00 & 8.705059e+00 &  5.5305346   & 34.3651280   & 6.161254e-02\\\\\n",
       "\tCASH & 10           & 307          & 3.407140e-01 & 1.030084e+00 & 4.412212e-02 & 1.143066e-01 & 5.913367e-02 &  0.000017985 & 8.823477e+00 & 8.823459e+00 &  5.8007926   & 38.0511199   & 5.878999e-02\\\\\n",
       "\tLIQUIDRATIO & 11           & 307          & 9.165096e+01 & 1.756573e+01 & 9.547438e+01 & 9.433786e+01 & 1.228390e+01 &  1.788265759 & 1.278575e+02 & 1.260693e+02 & -2.1222913   &  6.4831318   & 1.002529e+00\\\\\n",
       "\tCOMPANY\\_NAME* & 12           & 307          &          NaN &           NA &           NA &          NaN &           NA &          Inf &         -Inf &         -Inf &         NA   &         NA   &           NA\\\\\n",
       "\tGROUP & 13           & 307          & 6.058632e-01 & 4.894623e-01 & 1.000000e+00 & 6.315789e-01 & 0.000000e+00 &  0.000000000 & 1.000000e+00 & 1.000000e+00 & -0.4311603   & -1.8199973   & 2.793509e-02\\\\\n",
       "\tMUTUAL & 14           & 307          & 2.214984e-01 & 4.159331e-01 & 0.000000e+00 & 1.538462e-01 & 0.000000e+00 &  0.000000000 & 1.000000e+00 & 1.000000e+00 &  1.3348033   & -0.2189816   & 2.373856e-02\\\\\n",
       "\tSTOCK & 15           & 307          & 6.416938e-01 & 4.802856e-01 & 1.000000e+00 & 6.761134e-01 & 0.000000e+00 &  0.000000000 & 1.000000e+00 & 1.000000e+00 & -0.5881179   & -1.6594911   & 2.741135e-02\\\\\n",
       "\\end{tabular}\n"
      ],
      "text/markdown": [
       "\n",
       "| <!--/--> | vars | n | mean | sd | median | trimmed | mad | min | max | range | skew | kurtosis | se | \n",
       "|---|---|---|---|---|---|---|---|---|---|---|---|---|---|---|\n",
       "| RBC |  1           | 307          | 2.154431e+10 | 6.379138e+10 | 2.689972e+09 | 7.175603e+09 | 3.670221e+09 |  0.000000000 | 6.252900e+11 | 6.252900e+11 |  5.7097198   | 39.1865052   | 3.640766e+09 | \n",
       "| EXPENSES |  2           | 307          | 4.589238e-02 | 1.319982e-01 | 7.828007e-03 | 1.745972e-02 | 1.084249e-02 |  0.000000000 | 1.236946e+00 | 1.236946e+00 |  6.1255412   | 45.1559585   | 7.533535e-03 | \n",
       "| STAFFWAGE |  3           | 307          | 8.692253e+01 | 1.196137e+01 | 8.435856e+01 | 8.634166e+01 | 1.020698e+01 | 51.726893750 | 1.374810e+02 | 8.575407e+01 |  1.0202161   |  3.9886115   | 6.826714e-01 | \n",
       "| AGENTWAGE |  4           | 307          | 7.668318e+01 | 1.789094e+01 | 7.783374e+01 | 7.921919e+01 | 6.691494e+00 |  0.000000000 | 1.261703e+02 | 1.261703e+02 | -2.8867004   | 10.7919030   | 1.021090e+00 | \n",
       "| LONGLOSS |  5           | 307          | 2.682912e-02 | 9.095440e-02 | 1.751220e-03 | 6.762235e-03 | 2.596359e-03 | -0.070622667 | 8.539152e-01 | 9.245379e-01 |  6.0236694   | 43.0738485   | 5.191042e-03 | \n",
       "| SHORTLOSS |  6           | 307          | 3.857518e-02 | 1.278760e-01 | 3.932766e-03 | 1.142684e-02 | 5.830719e-03 | -0.003168545 | 1.171059e+00 | 1.174227e+00 |  6.4976310   | 47.5159020   | 7.298266e-03 | \n",
       "| GPWPERSONAL |  7           | 307          | 6.070132e-02 | 1.906326e-01 | 7.464290e-04 | 1.544072e-02 | 1.106656e-03 | -0.003751367 | 1.822486e+00 | 1.826237e+00 |  5.7510297   | 41.4806532   | 1.087998e-02 | \n",
       "| GPWCOMM |  8           | 307          | 1.227387e-01 | 3.368582e-01 | 2.192568e-02 | 5.121859e-02 | 3.153368e-02 |  0.000000000 | 4.189401e+00 | 4.189401e+00 |  7.3076666   | 73.2939457   | 1.922551e-02 | \n",
       "| ASSETS |  9           | 307          | 3.656852e-01 | 1.079539e+00 | 5.283041e-02 | 1.242967e-01 | 7.057677e-02 |  0.000320584 | 8.705380e+00 | 8.705059e+00 |  5.5305346   | 34.3651280   | 6.161254e-02 | \n",
       "| CASH | 10           | 307          | 3.407140e-01 | 1.030084e+00 | 4.412212e-02 | 1.143066e-01 | 5.913367e-02 |  0.000017985 | 8.823477e+00 | 8.823459e+00 |  5.8007926   | 38.0511199   | 5.878999e-02 | \n",
       "| LIQUIDRATIO | 11           | 307          | 9.165096e+01 | 1.756573e+01 | 9.547438e+01 | 9.433786e+01 | 1.228390e+01 |  1.788265759 | 1.278575e+02 | 1.260693e+02 | -2.1222913   |  6.4831318   | 1.002529e+00 | \n",
       "| COMPANY_NAME* | 12           | 307          |          NaN |           NA |           NA |          NaN |           NA |          Inf |         -Inf |         -Inf |         NA   |         NA   |           NA | \n",
       "| GROUP | 13           | 307          | 6.058632e-01 | 4.894623e-01 | 1.000000e+00 | 6.315789e-01 | 0.000000e+00 |  0.000000000 | 1.000000e+00 | 1.000000e+00 | -0.4311603   | -1.8199973   | 2.793509e-02 | \n",
       "| MUTUAL | 14           | 307          | 2.214984e-01 | 4.159331e-01 | 0.000000e+00 | 1.538462e-01 | 0.000000e+00 |  0.000000000 | 1.000000e+00 | 1.000000e+00 |  1.3348033   | -0.2189816   | 2.373856e-02 | \n",
       "| STOCK | 15           | 307          | 6.416938e-01 | 4.802856e-01 | 1.000000e+00 | 6.761134e-01 | 0.000000e+00 |  0.000000000 | 1.000000e+00 | 1.000000e+00 | -0.5881179   | -1.6594911   | 2.741135e-02 | \n",
       "\n",
       "\n"
      ],
      "text/plain": [
       "              vars n   mean         sd           median       trimmed     \n",
       "RBC            1   307 2.154431e+10 6.379138e+10 2.689972e+09 7.175603e+09\n",
       "EXPENSES       2   307 4.589238e-02 1.319982e-01 7.828007e-03 1.745972e-02\n",
       "STAFFWAGE      3   307 8.692253e+01 1.196137e+01 8.435856e+01 8.634166e+01\n",
       "AGENTWAGE      4   307 7.668318e+01 1.789094e+01 7.783374e+01 7.921919e+01\n",
       "LONGLOSS       5   307 2.682912e-02 9.095440e-02 1.751220e-03 6.762235e-03\n",
       "SHORTLOSS      6   307 3.857518e-02 1.278760e-01 3.932766e-03 1.142684e-02\n",
       "GPWPERSONAL    7   307 6.070132e-02 1.906326e-01 7.464290e-04 1.544072e-02\n",
       "GPWCOMM        8   307 1.227387e-01 3.368582e-01 2.192568e-02 5.121859e-02\n",
       "ASSETS         9   307 3.656852e-01 1.079539e+00 5.283041e-02 1.242967e-01\n",
       "CASH          10   307 3.407140e-01 1.030084e+00 4.412212e-02 1.143066e-01\n",
       "LIQUIDRATIO   11   307 9.165096e+01 1.756573e+01 9.547438e+01 9.433786e+01\n",
       "COMPANY_NAME* 12   307          NaN           NA           NA          NaN\n",
       "GROUP         13   307 6.058632e-01 4.894623e-01 1.000000e+00 6.315789e-01\n",
       "MUTUAL        14   307 2.214984e-01 4.159331e-01 0.000000e+00 1.538462e-01\n",
       "STOCK         15   307 6.416938e-01 4.802856e-01 1.000000e+00 6.761134e-01\n",
       "              mad          min          max          range        skew      \n",
       "RBC           3.670221e+09  0.000000000 6.252900e+11 6.252900e+11  5.7097198\n",
       "EXPENSES      1.084249e-02  0.000000000 1.236946e+00 1.236946e+00  6.1255412\n",
       "STAFFWAGE     1.020698e+01 51.726893750 1.374810e+02 8.575407e+01  1.0202161\n",
       "AGENTWAGE     6.691494e+00  0.000000000 1.261703e+02 1.261703e+02 -2.8867004\n",
       "LONGLOSS      2.596359e-03 -0.070622667 8.539152e-01 9.245379e-01  6.0236694\n",
       "SHORTLOSS     5.830719e-03 -0.003168545 1.171059e+00 1.174227e+00  6.4976310\n",
       "GPWPERSONAL   1.106656e-03 -0.003751367 1.822486e+00 1.826237e+00  5.7510297\n",
       "GPWCOMM       3.153368e-02  0.000000000 4.189401e+00 4.189401e+00  7.3076666\n",
       "ASSETS        7.057677e-02  0.000320584 8.705380e+00 8.705059e+00  5.5305346\n",
       "CASH          5.913367e-02  0.000017985 8.823477e+00 8.823459e+00  5.8007926\n",
       "LIQUIDRATIO   1.228390e+01  1.788265759 1.278575e+02 1.260693e+02 -2.1222913\n",
       "COMPANY_NAME*           NA          Inf         -Inf         -Inf         NA\n",
       "GROUP         0.000000e+00  0.000000000 1.000000e+00 1.000000e+00 -0.4311603\n",
       "MUTUAL        0.000000e+00  0.000000000 1.000000e+00 1.000000e+00  1.3348033\n",
       "STOCK         0.000000e+00  0.000000000 1.000000e+00 1.000000e+00 -0.5881179\n",
       "              kurtosis   se          \n",
       "RBC           39.1865052 3.640766e+09\n",
       "EXPENSES      45.1559585 7.533535e-03\n",
       "STAFFWAGE      3.9886115 6.826714e-01\n",
       "AGENTWAGE     10.7919030 1.021090e+00\n",
       "LONGLOSS      43.0738485 5.191042e-03\n",
       "SHORTLOSS     47.5159020 7.298266e-03\n",
       "GPWPERSONAL   41.4806532 1.087998e-02\n",
       "GPWCOMM       73.2939457 1.922551e-02\n",
       "ASSETS        34.3651280 6.161254e-02\n",
       "CASH          38.0511199 5.878999e-02\n",
       "LIQUIDRATIO    6.4831318 1.002529e+00\n",
       "COMPANY_NAME*         NA           NA\n",
       "GROUP         -1.8199973 2.793509e-02\n",
       "MUTUAL        -0.2189816 2.373856e-02\n",
       "STOCK         -1.6594911 2.741135e-02"
      ]
     },
     "metadata": {},
     "output_type": "display_data"
    }
   ],
   "source": [
    "describe(NAICData)"
   ]
  },
  {
   "cell_type": "markdown",
   "metadata": {},
   "source": [
    "<a id=\"step3\"></a>\n",
    "### Step 3 : Box Plots"
   ]
  },
  {
   "cell_type": "markdown",
   "metadata": {},
   "source": [
    "+ As mentioned in the Step 2, there are few variables (response and regressors) have skewness, however transformation is **not** being performed in this step"
   ]
  },
  {
   "cell_type": "code",
   "execution_count": 214,
   "metadata": {},
   "outputs": [
    {
     "data": {},
     "metadata": {},
     "output_type": "display_data"
    },
    {
     "data": {
      "image/png": "[encoded data removed]",
      "text/plain": [
       "plot without title"
      ]
     },
     "metadata": {},
     "output_type": "display_data"
    }
   ],
   "source": [
    "NAICData %>% tidyr::gather(RBC:LIQUIDRATIO, key = \"variable\", value = \"value\") %>%\n",
    "  ggplot(aes(x = value)) + \n",
    "  geom_histogram(bins = 30) + facet_wrap(~ variable, scales = 'free_x')"
   ]
  },
  {
   "cell_type": "markdown",
   "metadata": {},
   "source": [
    "<a id=\"step4\"></a>\n",
    "### Step 4: Scatterplot & Correlation Plot"
   ]
  },
  {
   "cell_type": "markdown",
   "metadata": {},
   "source": [
    "+ Scatter plot & Correlation matrix was generated for the quantitative variables\n",
    "+ Correlation matrix shows a very strong relationship of EXPENSES with fields LONGLOSS, SHORTLOSS,GPWPERSONAL, GPWCOMM, ASSETS, CASH & a considerable relationship with RBC\n",
    "+ STAFFWAGE & LIQUIDRATIO have no direct relationship, the same is shown in Summary as well"
   ]
  },
  {
   "cell_type": "code",
   "execution_count": 215,
   "metadata": {
    "scrolled": true
   },
   "outputs": [
    {
     "data": {
      "image/png": "[encoded data removed]",
      "text/plain": [
       "plot without title"
      ]
     },
     "metadata": {},
     "output_type": "display_data"
    }
   ],
   "source": [
    "plot(NAICData[,Quant_colnames])"
   ]
  },
  {
   "cell_type": "code",
   "execution_count": 216,
   "metadata": {},
   "outputs": [
    {
     "data": {
      "image/png": "[encoded data removed]",
      "text/plain": [
       "Plot with title \"\""
      ]
     },
     "metadata": {},
     "output_type": "display_data"
    }
   ],
   "source": [
    "corrplot(round(cor(NAICData[,Quant_colnames]),2), method = \"number\")"
   ]
  },
  {
   "cell_type": "markdown",
   "metadata": {},
   "source": [
    "<a id=\"step5\"></a>\n",
    "### Step 5 - Transforming Categorical variables"
   ]
  },
  {
   "cell_type": "markdown",
   "metadata": {},
   "source": [
    "+ All of the qualitative variables are already holding values '0' or '1' like dummy variables, hence performing NO transformation"
   ]
  },
  {
   "cell_type": "code",
   "execution_count": 217,
   "metadata": {},
   "outputs": [
    {
     "data": {
      "text/plain": [
       "   Min. 1st Qu.  Median    Mean 3rd Qu.    Max. \n",
       " 0.0000  0.0000  1.0000  0.6059  1.0000  1.0000 "
      ]
     },
     "metadata": {},
     "output_type": "display_data"
    },
    {
     "data": {
      "text/plain": [
       "   Min. 1st Qu.  Median    Mean 3rd Qu.    Max. \n",
       " 0.0000  0.0000  0.0000  0.2215  0.0000  1.0000 "
      ]
     },
     "metadata": {},
     "output_type": "display_data"
    },
    {
     "data": {
      "text/plain": [
       "   Min. 1st Qu.  Median    Mean 3rd Qu.    Max. \n",
       " 0.0000  0.0000  1.0000  0.6417  1.0000  1.0000 "
      ]
     },
     "metadata": {},
     "output_type": "display_data"
    }
   ],
   "source": [
    "summary(NAICData$GROUP)\n",
    "summary(NAICData$MUTUAL)\n",
    "summary(NAICData$STOCK)"
   ]
  },
  {
   "cell_type": "markdown",
   "metadata": {},
   "source": [
    "<a id=\"step6\"></a>\n",
    "### Step 6 - First Linear Regression (on all variables)"
   ]
  },
  {
   "cell_type": "markdown",
   "metadata": {},
   "source": [
    "+ Difference between R2 and Adjusted-R2 is very less, so there is no issue with the model\n",
    "+ There are some regressors with negative sign (ASSETS, STAFFWAGE, LIQUIDRATIO, MUTUAL, STOCK), which have a negative coefficient\n",
    "+ ASSETS field which seems to have direct correlation, has sign in negative which means there might be collinearity, which could be found out in the next steps"
   ]
  },
  {
   "cell_type": "code",
   "execution_count": 218,
   "metadata": {},
   "outputs": [
    {
     "data": {
      "text/plain": [
       "\n",
       "Call:\n",
       "lm(formula = EXPENSES ~ ., data = NAICData[, -c(12)])\n",
       "\n",
       "Residuals:\n",
       "      Min        1Q    Median        3Q       Max \n",
       "-0.165705 -0.004105 -0.000122  0.004617  0.131861 \n",
       "\n",
       "Coefficients:\n",
       "              Estimate Std. Error t value Pr(>|t|)    \n",
       "(Intercept)  4.548e-03  1.493e-02   0.305 0.760952    \n",
       "RBC          5.861e-13  8.099e-14   7.238 4.03e-12 ***\n",
       "STAFFWAGE   -9.491e-05  1.472e-04  -0.645 0.519495    \n",
       "AGENTWAGE    1.311e-04  9.773e-05   1.342 0.180702    \n",
       "LONGLOSS     5.047e-01  5.682e-02   8.882  < 2e-16 ***\n",
       "SHORTLOSS    2.437e-01  3.697e-02   6.592 2.02e-10 ***\n",
       "GPWPERSONAL  7.257e-02  2.138e-02   3.394 0.000783 ***\n",
       "GPWCOMM      1.204e-01  1.166e-02  10.322  < 2e-16 ***\n",
       "ASSETS      -1.828e-01  3.137e-02  -5.829 1.47e-08 ***\n",
       "CASH         1.708e-01  2.835e-02   6.025 5.06e-09 ***\n",
       "LIQUIDRATIO -3.264e-05  9.597e-05  -0.340 0.734030    \n",
       "GROUP        6.183e-04  3.760e-03   0.164 0.869506    \n",
       "MUTUAL      -1.551e-03  5.644e-03  -0.275 0.783602    \n",
       "STOCK       -5.596e-03  5.159e-03  -1.085 0.278977    \n",
       "---\n",
       "Signif. codes:  0 '***' 0.001 '**' 0.01 '*' 0.05 '.' 0.1 ' ' 1\n",
       "\n",
       "Residual standard error: 0.02784 on 293 degrees of freedom\n",
       "Multiple R-squared:  0.9574,\tAdjusted R-squared:  0.9555 \n",
       "F-statistic: 506.4 on 13 and 293 DF,  p-value: < 2.2e-16\n"
      ]
     },
     "metadata": {},
     "output_type": "display_data"
    }
   ],
   "source": [
    "model1 <- lm(EXPENSES~.,data=NAICData[,-c(12)])\n",
    "summary(model1)"
   ]
  },
  {
   "cell_type": "markdown",
   "metadata": {},
   "source": [
    "<a id=\"step7\"></a>\n",
    "### Step 7 - Residual Plots"
   ]
  },
  {
   "cell_type": "markdown",
   "metadata": {},
   "source": [
    "+ From the 'Fitted Vs Residual plot' it could be observed that model leaves behind a considerable amount of residues\n",
    "+ It could also be obsevered that the residuals of the key variables (from ANOVA), still have residuals left behind"
   ]
  },
  {
   "cell_type": "code",
   "execution_count": 219,
   "metadata": {},
   "outputs": [
    {
     "data": {
      "image/png": "[encoded data removed]",
      "text/plain": [
       "Plot with title \"Model 1\""
      ]
     },
     "metadata": {},
     "output_type": "display_data"
    }
   ],
   "source": [
    "StudentResidualPlot(model1,\"Model 1\")"
   ]
  },
  {
   "cell_type": "code",
   "execution_count": 220,
   "metadata": {},
   "outputs": [
    {
     "data": {
      "image/png": "[encoded data removed]",
      "text/plain": [
       "plot without title"
      ]
     },
     "metadata": {},
     "output_type": "display_data"
    },
    {
     "data": {
      "text/html": [
       "<table>\n",
       "<thead><tr><th></th><th scope=col>Test stat</th><th scope=col>Pr(&gt;|t|)</th></tr></thead>\n",
       "<tbody>\n",
       "\t<tr><th scope=row>RBC</th><td> 2.970</td><td>0.003 </td></tr>\n",
       "\t<tr><th scope=row>STAFFWAGE</th><td> 0.008</td><td>0.994 </td></tr>\n",
       "\t<tr><th scope=row>AGENTWAGE</th><td> 0.218</td><td>0.828 </td></tr>\n",
       "\t<tr><th scope=row>LONGLOSS</th><td>-0.017</td><td>0.986 </td></tr>\n",
       "\t<tr><th scope=row>SHORTLOSS</th><td>-1.823</td><td>0.069 </td></tr>\n",
       "\t<tr><th scope=row>GPWPERSONAL</th><td>-1.843</td><td>0.066 </td></tr>\n",
       "\t<tr><th scope=row>GPWCOMM</th><td> 2.581</td><td>0.010 </td></tr>\n",
       "\t<tr><th scope=row>ASSETS</th><td> 2.867</td><td>0.004 </td></tr>\n",
       "\t<tr><th scope=row>CASH</th><td> 2.636</td><td>0.009 </td></tr>\n",
       "\t<tr><th scope=row>LIQUIDRATIO</th><td>-0.996</td><td>0.320 </td></tr>\n",
       "\t<tr><th scope=row>GROUP</th><td> 0.090</td><td>0.928 </td></tr>\n",
       "\t<tr><th scope=row>MUTUAL</th><td>-0.300</td><td>0.764 </td></tr>\n",
       "\t<tr><th scope=row>STOCK</th><td> 0.293</td><td>0.770 </td></tr>\n",
       "\t<tr><th scope=row>Tukey test</th><td> 2.792</td><td>0.005 </td></tr>\n",
       "</tbody>\n",
       "</table>\n"
      ],
      "text/latex": [
       "\\begin{tabular}{r|ll}\n",
       "  & Test stat & Pr(>\\textbar{}t\\textbar{})\\\\\n",
       "\\hline\n",
       "\tRBC &  2.970 & 0.003 \\\\\n",
       "\tSTAFFWAGE &  0.008 & 0.994 \\\\\n",
       "\tAGENTWAGE &  0.218 & 0.828 \\\\\n",
       "\tLONGLOSS & -0.017 & 0.986 \\\\\n",
       "\tSHORTLOSS & -1.823 & 0.069 \\\\\n",
       "\tGPWPERSONAL & -1.843 & 0.066 \\\\\n",
       "\tGPWCOMM &  2.581 & 0.010 \\\\\n",
       "\tASSETS &  2.867 & 0.004 \\\\\n",
       "\tCASH &  2.636 & 0.009 \\\\\n",
       "\tLIQUIDRATIO & -0.996 & 0.320 \\\\\n",
       "\tGROUP &  0.090 & 0.928 \\\\\n",
       "\tMUTUAL & -0.300 & 0.764 \\\\\n",
       "\tSTOCK &  0.293 & 0.770 \\\\\n",
       "\tTukey test &  2.792 & 0.005 \\\\\n",
       "\\end{tabular}\n"
      ],
      "text/markdown": [
       "\n",
       "| <!--/--> | Test stat | Pr(>|t|) | \n",
       "|---|---|---|---|---|---|---|---|---|---|---|---|---|---|\n",
       "| RBC |  2.970 | 0.003  | \n",
       "| STAFFWAGE |  0.008 | 0.994  | \n",
       "| AGENTWAGE |  0.218 | 0.828  | \n",
       "| LONGLOSS | -0.017 | 0.986  | \n",
       "| SHORTLOSS | -1.823 | 0.069  | \n",
       "| GPWPERSONAL | -1.843 | 0.066  | \n",
       "| GPWCOMM |  2.581 | 0.010  | \n",
       "| ASSETS |  2.867 | 0.004  | \n",
       "| CASH |  2.636 | 0.009  | \n",
       "| LIQUIDRATIO | -0.996 | 0.320  | \n",
       "| GROUP |  0.090 | 0.928  | \n",
       "| MUTUAL | -0.300 | 0.764  | \n",
       "| STOCK |  0.293 | 0.770  | \n",
       "| Tukey test |  2.792 | 0.005  | \n",
       "\n",
       "\n"
      ],
      "text/plain": [
       "            Test stat Pr(>|t|)\n",
       "RBC          2.970    0.003   \n",
       "STAFFWAGE    0.008    0.994   \n",
       "AGENTWAGE    0.218    0.828   \n",
       "LONGLOSS    -0.017    0.986   \n",
       "SHORTLOSS   -1.823    0.069   \n",
       "GPWPERSONAL -1.843    0.066   \n",
       "GPWCOMM      2.581    0.010   \n",
       "ASSETS       2.867    0.004   \n",
       "CASH         2.636    0.009   \n",
       "LIQUIDRATIO -0.996    0.320   \n",
       "GROUP        0.090    0.928   \n",
       "MUTUAL      -0.300    0.764   \n",
       "STOCK        0.293    0.770   \n",
       "Tukey test   2.792    0.005   "
      ]
     },
     "metadata": {},
     "output_type": "display_data"
    },
    {
     "data": {
      "image/png": "[encoded data removed]",
      "text/plain": [
       "plot without title"
      ]
     },
     "metadata": {},
     "output_type": "display_data"
    }
   ],
   "source": [
    "residualPlots(model1)"
   ]
  },
  {
   "cell_type": "markdown",
   "metadata": {},
   "source": [
    "<a id=\"step8\"></a>\n",
    "### Step 8 - Influential  Observations"
   ]
  },
  {
   "cell_type": "markdown",
   "metadata": {},
   "source": [
    "Below are influential observations\n",
    "\n",
    "+ 175 - High influencers\n",
    "+ 245, 248 - Medium influencers\n",
    "+ 194, 202, 209 - Low influencers"
   ]
  },
  {
   "cell_type": "code",
   "execution_count": 221,
   "metadata": {},
   "outputs": [
    {
     "data": {
      "image/png": "[encoded data removed]",
      "text/plain": [
       "plot without title"
      ]
     },
     "metadata": {},
     "output_type": "display_data"
    },
    {
     "data": {
      "image/png": "[encoded data removed]",
      "text/plain": [
       "Plot with title \"\""
      ]
     },
     "metadata": {},
     "output_type": "display_data"
    }
   ],
   "source": [
    "DeletionDiagonsitics(model1)"
   ]
  },
  {
   "cell_type": "code",
   "execution_count": 222,
   "metadata": {},
   "outputs": [],
   "source": [
    "NAICData2 <- NAICData[-c(175,245,248,194,202,209),]"
   ]
  },
  {
   "cell_type": "code",
   "execution_count": 223,
   "metadata": {},
   "outputs": [
    {
     "data": {
      "text/plain": [
       "\n",
       "Call:\n",
       "lm(formula = EXPENSES ~ ., data = NAICData2[, -c(12)])\n",
       "\n",
       "Residuals:\n",
       "      Min        1Q    Median        3Q       Max \n",
       "-0.091253 -0.004548 -0.001207  0.002035  0.136699 \n",
       "\n",
       "Coefficients:\n",
       "              Estimate Std. Error t value Pr(>|t|)    \n",
       "(Intercept) -4.516e-04  1.208e-02  -0.037 0.970207    \n",
       "RBC          4.439e-13  1.082e-13   4.101 5.36e-05 ***\n",
       "STAFFWAGE   -2.425e-05  1.184e-04  -0.205 0.837825    \n",
       "AGENTWAGE    1.113e-04  7.876e-05   1.413 0.158726    \n",
       "LONGLOSS     5.676e-01  4.985e-02  11.386  < 2e-16 ***\n",
       "SHORTLOSS    3.313e-01  4.636e-02   7.146 7.39e-12 ***\n",
       "GPWPERSONAL  7.051e-02  1.796e-02   3.927 0.000108 ***\n",
       "GPWCOMM      9.755e-02  1.474e-02   6.617 1.79e-10 ***\n",
       "ASSETS      -2.033e-01  3.878e-02  -5.244 3.06e-07 ***\n",
       "CASH         1.897e-01  3.333e-02   5.691 3.12e-08 ***\n",
       "LIQUIDRATIO -5.753e-05  7.795e-05  -0.738 0.461136    \n",
       "GROUP        1.914e-03  3.068e-03   0.624 0.533277    \n",
       "MUTUAL       1.379e-03  4.564e-03   0.302 0.762713    \n",
       "STOCK       -4.150e-04  4.185e-03  -0.099 0.921076    \n",
       "---\n",
       "Signif. codes:  0 '***' 0.001 '**' 0.01 '*' 0.05 '.' 0.1 ' ' 1\n",
       "\n",
       "Residual standard error: 0.02232 on 287 degrees of freedom\n",
       "Multiple R-squared:  0.9309,\tAdjusted R-squared:  0.9278 \n",
       "F-statistic: 297.5 on 13 and 287 DF,  p-value: < 2.2e-16\n"
      ]
     },
     "metadata": {},
     "output_type": "display_data"
    }
   ],
   "source": [
    "model1 <- lm(EXPENSES~.,data=NAICData2[,-c(12)])\n",
    "summary(model1)"
   ]
  },
  {
   "cell_type": "markdown",
   "metadata": {},
   "source": [
    "<a id=\"step9\"></a>\n",
    "### Step 9 - Multi-Collinearity"
   ]
  },
  {
   "cell_type": "markdown",
   "metadata": {},
   "source": [
    "+ It could be observed that ASSETS and CASH are having a collinear relationship, from the initial model (call it **'model1'**)\n",
    "+ Removed of the ASSETS field, and Variance decomposition, VIF reduced considerably, a new model removing these two variables (say **'model1corr'**)\n",
    "+  from the above model, it was observed that there is a collinear relationship between LONGLOSS and SHORTLOSS. Hence removed the LONGLOSS and ran the VIF, which reduced the VIF i.e. VIFs of all variables fell below 7\n",
    "+ VDTs still show a variance that accumulates upto 28\n",
    "+ Generated Multiple models, removing the collinear variables to check the collinearity"
   ]
  },
  {
   "cell_type": "code",
   "execution_count": 224,
   "metadata": {},
   "outputs": [
    {
     "data": {
      "text/html": [
       "<dl class=dl-horizontal>\n",
       "\t<dt>RBC</dt>\n",
       "\t\t<dd>11.9702691495267</dd>\n",
       "\t<dt>STAFFWAGE</dt>\n",
       "\t\t<dd>1.21644646381574</dd>\n",
       "\t<dt>AGENTWAGE</dt>\n",
       "\t\t<dd>1.21710149197403</dd>\n",
       "\t<dt>LONGLOSS</dt>\n",
       "\t\t<dd>4.92370253738927</dd>\n",
       "\t<dt>SHORTLOSS</dt>\n",
       "\t\t<dd>9.63109567443753</dd>\n",
       "\t<dt>GPWPERSONAL</dt>\n",
       "\t\t<dd>3.20757992167549</dd>\n",
       "\t<dt>GPWCOMM</dt>\n",
       "\t\t<dd>5.4434997781722</dd>\n",
       "\t<dt>ASSETS</dt>\n",
       "\t\t<dd>376.576621273568</dd>\n",
       "\t<dt>CASH</dt>\n",
       "\t\t<dd>242.621141223728</dd>\n",
       "\t<dt>LIQUIDRATIO</dt>\n",
       "\t\t<dd>1.14397637633985</dd>\n",
       "\t<dt>GROUP</dt>\n",
       "\t\t<dd>1.36717941041696</dd>\n",
       "\t<dt>MUTUAL</dt>\n",
       "\t\t<dd>2.20089705466057</dd>\n",
       "\t<dt>STOCK</dt>\n",
       "\t\t<dd>2.44427666090174</dd>\n",
       "</dl>\n"
      ],
      "text/latex": [
       "\\begin{description*}\n",
       "\\item[RBC] 11.9702691495267\n",
       "\\item[STAFFWAGE] 1.21644646381574\n",
       "\\item[AGENTWAGE] 1.21710149197403\n",
       "\\item[LONGLOSS] 4.92370253738927\n",
       "\\item[SHORTLOSS] 9.63109567443753\n",
       "\\item[GPWPERSONAL] 3.20757992167549\n",
       "\\item[GPWCOMM] 5.4434997781722\n",
       "\\item[ASSETS] 376.576621273568\n",
       "\\item[CASH] 242.621141223728\n",
       "\\item[LIQUIDRATIO] 1.14397637633985\n",
       "\\item[GROUP] 1.36717941041696\n",
       "\\item[MUTUAL] 2.20089705466057\n",
       "\\item[STOCK] 2.44427666090174\n",
       "\\end{description*}\n"
      ],
      "text/markdown": [
       "RBC\n",
       ":   11.9702691495267STAFFWAGE\n",
       ":   1.21644646381574AGENTWAGE\n",
       ":   1.21710149197403LONGLOSS\n",
       ":   4.92370253738927SHORTLOSS\n",
       ":   9.63109567443753GPWPERSONAL\n",
       ":   3.20757992167549GPWCOMM\n",
       ":   5.4434997781722ASSETS\n",
       ":   376.576621273568CASH\n",
       ":   242.621141223728LIQUIDRATIO\n",
       ":   1.14397637633985GROUP\n",
       ":   1.36717941041696MUTUAL\n",
       ":   2.20089705466057STOCK\n",
       ":   2.44427666090174\n",
       "\n"
      ],
      "text/plain": [
       "        RBC   STAFFWAGE   AGENTWAGE    LONGLOSS   SHORTLOSS GPWPERSONAL \n",
       "  11.970269    1.216446    1.217101    4.923703    9.631096    3.207580 \n",
       "    GPWCOMM      ASSETS        CASH LIQUIDRATIO       GROUP      MUTUAL \n",
       "   5.443500  376.576621  242.621141    1.143976    1.367179    2.200897 \n",
       "      STOCK \n",
       "   2.444277 "
      ]
     },
     "metadata": {},
     "output_type": "display_data"
    }
   ],
   "source": [
    "vif(model1)"
   ]
  },
  {
   "cell_type": "code",
   "execution_count": 225,
   "metadata": {},
   "outputs": [
    {
     "data": {
      "text/plain": [
       "Condition\n",
       "Index\tVariance Decomposition Proportions\n",
       "           intercept RBC   STAFFWAGE AGENTWAGE LONGLOSS SHORTLOSS GPWPERSONAL\n",
       "1    1.000 0.000     0.001 0.000     0.000     0.002    0.001     0.002      \n",
       "2    1.569 0.000     0.001 0.000     0.001     0.004    0.002     0.004      \n",
       "3    2.776 0.000     0.000 0.000     0.000     0.000    0.000     0.004      \n",
       "4    3.750 0.000     0.029 0.000     0.000     0.057    0.000     0.217      \n",
       "5    5.107 0.001     0.001 0.001     0.005     0.023    0.006     0.006      \n",
       "6    5.799 0.000     0.050 0.000     0.000     0.005    0.034     0.166      \n",
       "7    6.731 0.000     0.081 0.000     0.001     0.061    0.221     0.015      \n",
       "8    7.938 0.000     0.001 0.000     0.001     0.812    0.001     0.557      \n",
       "9    8.829 0.002     0.002 0.006     0.035     0.003    0.000     0.000      \n",
       "10  12.517 0.001     0.185 0.000     0.217     0.001    0.268     0.002      \n",
       "11  14.220 0.005     0.223 0.000     0.256     0.006    0.378     0.021      \n",
       "12  21.277 0.070     0.006 0.363     0.481     0.004    0.000     0.000      \n",
       "13  31.378 0.870     0.004 0.613     0.001     0.000    0.009     0.000      \n",
       "14  76.025 0.050     0.417 0.016     0.001     0.022    0.079     0.007      \n",
       "   GPWCOMM ASSETS CASH  LIQUIDRATIO GROUP MUTUAL STOCK\n",
       "1  0.002   0.000  0.000 0.000       0.003 0.001  0.001\n",
       "2  0.002   0.000  0.000 0.001       0.004 0.002  0.003\n",
       "3  0.000   0.000  0.000 0.000       0.009 0.240  0.032\n",
       "4  0.001   0.000  0.000 0.000       0.003 0.007  0.001\n",
       "5  0.007   0.000  0.000 0.004       0.697 0.044  0.002\n",
       "6  0.334   0.000  0.001 0.000       0.000 0.002  0.000\n",
       "7  0.158   0.000  0.001 0.000       0.039 0.001  0.004\n",
       "8  0.127   0.000  0.000 0.000       0.116 0.010  0.003\n",
       "9  0.000   0.000  0.000 0.003       0.113 0.642  0.887\n",
       "10 0.076   0.002  0.009 0.155       0.000 0.009  0.010\n",
       "11 0.003   0.005  0.014 0.158       0.007 0.027  0.047\n",
       "12 0.002   0.000  0.000 0.473       0.007 0.001  0.001\n",
       "13 0.000   0.002  0.001 0.136       0.001 0.013  0.009\n",
       "14 0.288   0.990  0.973 0.069       0.002 0.001  0.000"
      ]
     },
     "metadata": {},
     "output_type": "display_data"
    }
   ],
   "source": [
    "#stepAIC\n",
    "colldiag(model1)"
   ]
  },
  {
   "cell_type": "code",
   "execution_count": 226,
   "metadata": {
    "scrolled": true
   },
   "outputs": [
    {
     "data": {
      "text/plain": [
       "\n",
       "Call:\n",
       "lm(formula = EXPENSES ~ ., data = NAICData2[, -c(9, 12)])\n",
       "\n",
       "Residuals:\n",
       "      Min        1Q    Median        3Q       Max \n",
       "-0.112981 -0.005262 -0.002225  0.002229  0.160469 \n",
       "\n",
       "Coefficients:\n",
       "              Estimate Std. Error t value Pr(>|t|)    \n",
       "(Intercept) -1.187e-02  1.242e-02  -0.956   0.3398    \n",
       "RBC          4.847e-14  8.114e-14   0.597   0.5507    \n",
       "STAFFWAGE    3.507e-05  1.231e-04   0.285   0.7760    \n",
       "AGENTWAGE    9.758e-05  8.226e-05   1.186   0.2365    \n",
       "LONGLOSS     5.282e-01  5.150e-02  10.257  < 2e-16 ***\n",
       "SHORTLOSS    2.481e-01  4.552e-02   5.450 1.08e-07 ***\n",
       "GPWPERSONAL  7.677e-02  1.872e-02   4.101 5.36e-05 ***\n",
       "GPWCOMM      5.642e-02  1.304e-02   4.326 2.10e-05 ***\n",
       "CASH         2.032e-02  8.598e-03   2.363   0.0188 *  \n",
       "LIQUIDRATIO  3.483e-05  7.935e-05   0.439   0.6610    \n",
       "GROUP        2.482e-03  3.204e-03   0.774   0.4393    \n",
       "MUTUAL       5.726e-04  4.767e-03   0.120   0.9045    \n",
       "STOCK       -5.633e-04  4.374e-03  -0.129   0.8976    \n",
       "---\n",
       "Signif. codes:  0 '***' 0.001 '**' 0.01 '*' 0.05 '.' 0.1 ' ' 1\n",
       "\n",
       "Residual standard error: 0.02333 on 288 degrees of freedom\n",
       "Multiple R-squared:  0.9243,\tAdjusted R-squared:  0.9211 \n",
       "F-statistic:   293 on 12 and 288 DF,  p-value: < 2.2e-16\n"
      ]
     },
     "metadata": {},
     "output_type": "display_data"
    }
   ],
   "source": [
    "model1coll <- lm(EXPENSES~.,data=NAICData2[,-c(9,12)])\n",
    "summary(model1coll)"
   ]
  },
  {
   "cell_type": "code",
   "execution_count": 227,
   "metadata": {},
   "outputs": [
    {
     "data": {
      "text/html": [
       "<dl class=dl-horizontal>\n",
       "\t<dt>RBC</dt>\n",
       "\t\t<dd>6.15939661881275</dd>\n",
       "\t<dt>STAFFWAGE</dt>\n",
       "\t\t<dd>1.20533622705291</dd>\n",
       "\t<dt>AGENTWAGE</dt>\n",
       "\t\t<dd>1.21576019661283</dd>\n",
       "\t<dt>LONGLOSS</dt>\n",
       "\t\t<dd>4.8122554534098</dd>\n",
       "\t<dt>SHORTLOSS</dt>\n",
       "\t\t<dd>8.50223464302122</dd>\n",
       "\t<dt>GPWPERSONAL</dt>\n",
       "\t\t<dd>3.19340137848605</dd>\n",
       "\t<dt>GPWCOMM</dt>\n",
       "\t\t<dd>3.90291434164263</dd>\n",
       "\t<dt>CASH</dt>\n",
       "\t\t<dd>14.7879562793541</dd>\n",
       "\t<dt>LIQUIDRATIO</dt>\n",
       "\t\t<dd>1.08556899631372</dd>\n",
       "\t<dt>GROUP</dt>\n",
       "\t\t<dd>1.3654763356608</dd>\n",
       "\t<dt>MUTUAL</dt>\n",
       "\t\t<dd>2.19839590049281</dd>\n",
       "\t<dt>STOCK</dt>\n",
       "\t\t<dd>2.44416505128566</dd>\n",
       "</dl>\n"
      ],
      "text/latex": [
       "\\begin{description*}\n",
       "\\item[RBC] 6.15939661881275\n",
       "\\item[STAFFWAGE] 1.20533622705291\n",
       "\\item[AGENTWAGE] 1.21576019661283\n",
       "\\item[LONGLOSS] 4.8122554534098\n",
       "\\item[SHORTLOSS] 8.50223464302122\n",
       "\\item[GPWPERSONAL] 3.19340137848605\n",
       "\\item[GPWCOMM] 3.90291434164263\n",
       "\\item[CASH] 14.7879562793541\n",
       "\\item[LIQUIDRATIO] 1.08556899631372\n",
       "\\item[GROUP] 1.3654763356608\n",
       "\\item[MUTUAL] 2.19839590049281\n",
       "\\item[STOCK] 2.44416505128566\n",
       "\\end{description*}\n"
      ],
      "text/markdown": [
       "RBC\n",
       ":   6.15939661881275STAFFWAGE\n",
       ":   1.20533622705291AGENTWAGE\n",
       ":   1.21576019661283LONGLOSS\n",
       ":   4.8122554534098SHORTLOSS\n",
       ":   8.50223464302122GPWPERSONAL\n",
       ":   3.19340137848605GPWCOMM\n",
       ":   3.90291434164263CASH\n",
       ":   14.7879562793541LIQUIDRATIO\n",
       ":   1.08556899631372GROUP\n",
       ":   1.3654763356608MUTUAL\n",
       ":   2.19839590049281STOCK\n",
       ":   2.44416505128566\n",
       "\n"
      ],
      "text/plain": [
       "        RBC   STAFFWAGE   AGENTWAGE    LONGLOSS   SHORTLOSS GPWPERSONAL \n",
       "   6.159397    1.205336    1.215760    4.812255    8.502235    3.193401 \n",
       "    GPWCOMM        CASH LIQUIDRATIO       GROUP      MUTUAL       STOCK \n",
       "   3.902914   14.787956    1.085569    1.365476    2.198396    2.444165 "
      ]
     },
     "metadata": {},
     "output_type": "display_data"
    },
    {
     "data": {
      "text/plain": [
       "Condition\n",
       "Index\tVariance Decomposition Proportions\n",
       "           intercept RBC   STAFFWAGE AGENTWAGE LONGLOSS SHORTLOSS GPWPERSONAL\n",
       "1    1.000 0.000     0.001 0.000     0.001     0.002    0.001     0.002      \n",
       "2    1.580 0.000     0.004 0.000     0.001     0.007    0.004     0.007      \n",
       "3    2.663 0.000     0.001 0.000     0.000     0.000    0.000     0.004      \n",
       "4    3.724 0.000     0.078 0.000     0.000     0.050    0.000     0.225      \n",
       "5    4.901 0.001     0.002 0.001     0.005     0.024    0.007     0.008      \n",
       "6    5.629 0.000     0.157 0.000     0.000     0.003    0.044     0.157      \n",
       "7    6.564 0.000     0.088 0.000     0.001     0.063    0.280     0.012      \n",
       "8    7.618 0.000     0.001 0.000     0.001     0.838    0.002     0.559      \n",
       "9    8.474 0.002     0.002 0.006     0.035     0.004    0.001     0.000      \n",
       "10  12.254 0.002     0.151 0.000     0.328     0.000    0.123     0.000      \n",
       "11  14.651 0.005     0.499 0.000     0.154     0.005    0.525     0.025      \n",
       "12  20.434 0.070     0.013 0.370     0.473     0.004    0.001     0.000      \n",
       "13  30.269 0.919     0.004 0.622     0.001     0.001    0.010     0.000      \n",
       "   GPWCOMM CASH  LIQUIDRATIO GROUP MUTUAL STOCK\n",
       "1  0.002   0.001 0.000       0.003 0.001  0.001\n",
       "2  0.005   0.002 0.001       0.003 0.002  0.003\n",
       "3  0.000   0.000 0.000       0.009 0.240  0.032\n",
       "4  0.010   0.008 0.000       0.003 0.008  0.001\n",
       "5  0.008   0.000 0.004       0.701 0.043  0.002\n",
       "6  0.406   0.012 0.001       0.001 0.002  0.000\n",
       "7  0.285   0.037 0.000       0.037 0.001  0.004\n",
       "8  0.169   0.000 0.000       0.115 0.009  0.003\n",
       "9  0.000   0.002 0.003       0.114 0.644  0.888\n",
       "10 0.088   0.129 0.245       0.000 0.018  0.024\n",
       "11 0.025   0.792 0.081       0.007 0.017  0.032\n",
       "12 0.001   0.006 0.505       0.007 0.001  0.001\n",
       "13 0.001   0.011 0.159       0.001 0.012  0.008"
      ]
     },
     "metadata": {},
     "output_type": "display_data"
    }
   ],
   "source": [
    "vif(model1coll)\n",
    "colldiag(model1coll)"
   ]
  },
  {
   "cell_type": "code",
   "execution_count": 228,
   "metadata": {},
   "outputs": [
    {
     "data": {
      "image/png": "[encoded data removed]",
      "text/plain": [
       "plot without title"
      ]
     },
     "metadata": {},
     "output_type": "display_data"
    },
    {
     "data": {
      "text/html": [
       "<table>\n",
       "<thead><tr><th></th><th scope=col>Test stat</th><th scope=col>Pr(&gt;|t|)</th></tr></thead>\n",
       "<tbody>\n",
       "\t<tr><th scope=row>RBC</th><td>-7.801</td><td>0.000 </td></tr>\n",
       "\t<tr><th scope=row>STAFFWAGE</th><td>-0.358</td><td>0.721 </td></tr>\n",
       "\t<tr><th scope=row>AGENTWAGE</th><td>-0.469</td><td>0.640 </td></tr>\n",
       "\t<tr><th scope=row>LONGLOSS</th><td>-3.993</td><td>0.000 </td></tr>\n",
       "\t<tr><th scope=row>SHORTLOSS</th><td>-8.400</td><td>0.000 </td></tr>\n",
       "\t<tr><th scope=row>GPWPERSONAL</th><td> 2.802</td><td>0.005 </td></tr>\n",
       "\t<tr><th scope=row>GPWCOMM</th><td>-8.901</td><td>0.000 </td></tr>\n",
       "\t<tr><th scope=row>CASH</th><td>-8.717</td><td>0.000 </td></tr>\n",
       "\t<tr><th scope=row>LIQUIDRATIO</th><td>-0.444</td><td>0.658 </td></tr>\n",
       "\t<tr><th scope=row>GROUP</th><td> 0.315</td><td>0.753 </td></tr>\n",
       "\t<tr><th scope=row>MUTUAL</th><td> 0.351</td><td>0.726 </td></tr>\n",
       "\t<tr><th scope=row>STOCK</th><td>-0.035</td><td>0.972 </td></tr>\n",
       "\t<tr><th scope=row>Tukey test</th><td>-7.801</td><td>0.000 </td></tr>\n",
       "</tbody>\n",
       "</table>\n"
      ],
      "text/latex": [
       "\\begin{tabular}{r|ll}\n",
       "  & Test stat & Pr(>\\textbar{}t\\textbar{})\\\\\n",
       "\\hline\n",
       "\tRBC & -7.801 & 0.000 \\\\\n",
       "\tSTAFFWAGE & -0.358 & 0.721 \\\\\n",
       "\tAGENTWAGE & -0.469 & 0.640 \\\\\n",
       "\tLONGLOSS & -3.993 & 0.000 \\\\\n",
       "\tSHORTLOSS & -8.400 & 0.000 \\\\\n",
       "\tGPWPERSONAL &  2.802 & 0.005 \\\\\n",
       "\tGPWCOMM & -8.901 & 0.000 \\\\\n",
       "\tCASH & -8.717 & 0.000 \\\\\n",
       "\tLIQUIDRATIO & -0.444 & 0.658 \\\\\n",
       "\tGROUP &  0.315 & 0.753 \\\\\n",
       "\tMUTUAL &  0.351 & 0.726 \\\\\n",
       "\tSTOCK & -0.035 & 0.972 \\\\\n",
       "\tTukey test & -7.801 & 0.000 \\\\\n",
       "\\end{tabular}\n"
      ],
      "text/markdown": [
       "\n",
       "| <!--/--> | Test stat | Pr(>|t|) | \n",
       "|---|---|---|---|---|---|---|---|---|---|---|---|---|\n",
       "| RBC | -7.801 | 0.000  | \n",
       "| STAFFWAGE | -0.358 | 0.721  | \n",
       "| AGENTWAGE | -0.469 | 0.640  | \n",
       "| LONGLOSS | -3.993 | 0.000  | \n",
       "| SHORTLOSS | -8.400 | 0.000  | \n",
       "| GPWPERSONAL |  2.802 | 0.005  | \n",
       "| GPWCOMM | -8.901 | 0.000  | \n",
       "| CASH | -8.717 | 0.000  | \n",
       "| LIQUIDRATIO | -0.444 | 0.658  | \n",
       "| GROUP |  0.315 | 0.753  | \n",
       "| MUTUAL |  0.351 | 0.726  | \n",
       "| STOCK | -0.035 | 0.972  | \n",
       "| Tukey test | -7.801 | 0.000  | \n",
       "\n",
       "\n"
      ],
      "text/plain": [
       "            Test stat Pr(>|t|)\n",
       "RBC         -7.801    0.000   \n",
       "STAFFWAGE   -0.358    0.721   \n",
       "AGENTWAGE   -0.469    0.640   \n",
       "LONGLOSS    -3.993    0.000   \n",
       "SHORTLOSS   -8.400    0.000   \n",
       "GPWPERSONAL  2.802    0.005   \n",
       "GPWCOMM     -8.901    0.000   \n",
       "CASH        -8.717    0.000   \n",
       "LIQUIDRATIO -0.444    0.658   \n",
       "GROUP        0.315    0.753   \n",
       "MUTUAL       0.351    0.726   \n",
       "STOCK       -0.035    0.972   \n",
       "Tukey test  -7.801    0.000   "
      ]
     },
     "metadata": {},
     "output_type": "display_data"
    },
    {
     "data": {
      "image/png": "[encoded data removed]",
      "text/plain": [
       "plot without title"
      ]
     },
     "metadata": {},
     "output_type": "display_data"
    }
   ],
   "source": [
    "residualPlots(model1coll)"
   ]
  },
  {
   "cell_type": "code",
   "execution_count": 229,
   "metadata": {},
   "outputs": [
    {
     "data": {
      "text/plain": [
       "\n",
       "Call:\n",
       "lm(formula = EXPENSES ~ ., data = NAICData[, -c(5, 9, 12)])\n",
       "\n",
       "Residuals:\n",
       "      Min        1Q    Median        3Q       Max \n",
       "-0.172269 -0.005017  0.000494  0.005708  0.206676 \n",
       "\n",
       "Coefficients:\n",
       "              Estimate Std. Error t value Pr(>|t|)    \n",
       "(Intercept) -1.304e-02  1.708e-02  -0.764   0.4458    \n",
       "RBC          2.435e-13  5.421e-14   4.492 1.02e-05 ***\n",
       "STAFFWAGE    2.002e-05  1.693e-04   0.118   0.9060    \n",
       "AGENTWAGE    9.717e-05  1.128e-04   0.861   0.3899    \n",
       "SHORTLOSS    3.594e-01  3.947e-02   9.107  < 2e-16 ***\n",
       "GPWPERSONAL  1.975e-01  1.740e-02  11.347  < 2e-16 ***\n",
       "GPWCOMM      1.099e-01  1.302e-02   8.437 1.48e-15 ***\n",
       "CASH         6.131e-03  3.658e-03   1.676   0.0948 .  \n",
       "LIQUIDRATIO  1.383e-04  1.085e-04   1.275   0.2034    \n",
       "GROUP       -2.251e-03  4.341e-03  -0.519   0.6044    \n",
       "MUTUAL      -9.961e-03  6.481e-03  -1.537   0.1254    \n",
       "STOCK       -9.397e-03  5.972e-03  -1.573   0.1167    \n",
       "---\n",
       "Signif. codes:  0 '***' 0.001 '**' 0.01 '*' 0.05 '.' 0.1 ' ' 1\n",
       "\n",
       "Residual standard error: 0.03233 on 295 degrees of freedom\n",
       "Multiple R-squared:  0.9422,\tAdjusted R-squared:   0.94 \n",
       "F-statistic: 436.8 on 11 and 295 DF,  p-value: < 2.2e-16\n"
      ]
     },
     "metadata": {},
     "output_type": "display_data"
    }
   ],
   "source": [
    "model2 <- lm(EXPENSES~.,data=NAICData[,-c(5,9,12)])\n",
    "summary(model2)"
   ]
  },
  {
   "cell_type": "code",
   "execution_count": 230,
   "metadata": {},
   "outputs": [
    {
     "data": {
      "text/html": [
       "<dl class=dl-horizontal>\n",
       "\t<dt>RBC</dt>\n",
       "\t\t<dd>3.50032115900083</dd>\n",
       "\t<dt>STAFFWAGE</dt>\n",
       "\t\t<dd>1.20043933274825</dd>\n",
       "\t<dt>AGENTWAGE</dt>\n",
       "\t\t<dd>1.19302894349744</dd>\n",
       "\t<dt>SHORTLOSS</dt>\n",
       "\t\t<dd>7.45639761265352</dd>\n",
       "\t<dt>GPWPERSONAL</dt>\n",
       "\t\t<dd>3.2214693669274</dd>\n",
       "\t<dt>GPWCOMM</dt>\n",
       "\t\t<dd>5.63109630049747</dd>\n",
       "\t<dt>CASH</dt>\n",
       "\t\t<dd>4.15542980696818</dd>\n",
       "\t<dt>LIQUIDRATIO</dt>\n",
       "\t\t<dd>1.06238185139263</dd>\n",
       "\t<dt>GROUP</dt>\n",
       "\t\t<dd>1.32153805815903</dd>\n",
       "\t<dt>MUTUAL</dt>\n",
       "\t\t<dd>2.12694773675913</dd>\n",
       "\t<dt>STOCK</dt>\n",
       "\t\t<dd>2.40821626884553</dd>\n",
       "</dl>\n"
      ],
      "text/latex": [
       "\\begin{description*}\n",
       "\\item[RBC] 3.50032115900083\n",
       "\\item[STAFFWAGE] 1.20043933274825\n",
       "\\item[AGENTWAGE] 1.19302894349744\n",
       "\\item[SHORTLOSS] 7.45639761265352\n",
       "\\item[GPWPERSONAL] 3.2214693669274\n",
       "\\item[GPWCOMM] 5.63109630049747\n",
       "\\item[CASH] 4.15542980696818\n",
       "\\item[LIQUIDRATIO] 1.06238185139263\n",
       "\\item[GROUP] 1.32153805815903\n",
       "\\item[MUTUAL] 2.12694773675913\n",
       "\\item[STOCK] 2.40821626884553\n",
       "\\end{description*}\n"
      ],
      "text/markdown": [
       "RBC\n",
       ":   3.50032115900083STAFFWAGE\n",
       ":   1.20043933274825AGENTWAGE\n",
       ":   1.19302894349744SHORTLOSS\n",
       ":   7.45639761265352GPWPERSONAL\n",
       ":   3.2214693669274GPWCOMM\n",
       ":   5.63109630049747CASH\n",
       ":   4.15542980696818LIQUIDRATIO\n",
       ":   1.06238185139263GROUP\n",
       ":   1.32153805815903MUTUAL\n",
       ":   2.12694773675913STOCK\n",
       ":   2.40821626884553\n",
       "\n"
      ],
      "text/plain": [
       "        RBC   STAFFWAGE   AGENTWAGE   SHORTLOSS GPWPERSONAL     GPWCOMM \n",
       "   3.500321    1.200439    1.193029    7.456398    3.221469    5.631096 \n",
       "       CASH LIQUIDRATIO       GROUP      MUTUAL       STOCK \n",
       "   4.155430    1.062382    1.321538    2.126948    2.408216 "
      ]
     },
     "metadata": {},
     "output_type": "display_data"
    },
    {
     "data": {
      "text/plain": [
       "Condition\n",
       "Index\tVariance Decomposition Proportions\n",
       "           intercept RBC   STAFFWAGE AGENTWAGE SHORTLOSS GPWPERSONAL GPWCOMM\n",
       "1    1.000 0.000     0.002 0.000     0.001     0.001     0.002       0.002  \n",
       "2    1.521 0.000     0.011 0.000     0.001     0.007     0.010       0.007  \n",
       "3    2.543 0.000     0.000 0.000     0.000     0.000     0.004       0.000  \n",
       "4    3.685 0.000     0.127 0.000     0.000     0.011     0.338       0.020  \n",
       "5    4.770 0.001     0.002 0.002     0.006     0.007     0.001       0.000  \n",
       "6    6.207 0.000     0.034 0.000     0.000     0.060     0.003       0.165  \n",
       "7    6.271 0.000     0.811 0.000     0.000     0.033     0.160       0.243  \n",
       "8    8.032 0.002     0.000 0.006     0.037     0.013     0.002       0.021  \n",
       "9    9.102 0.000     0.001 0.000     0.001     0.860     0.471       0.495  \n",
       "10  12.105 0.004     0.001 0.000     0.466     0.008     0.009       0.044  \n",
       "11  19.535 0.072     0.008 0.372     0.486     0.000     0.001       0.001  \n",
       "12  28.755 0.920     0.000 0.620     0.002     0.000     0.000       0.002  \n",
       "   CASH  LIQUIDRATIO GROUP MUTUAL STOCK\n",
       "1  0.002 0.001       0.004 0.001  0.002\n",
       "2  0.011 0.001       0.002 0.003  0.002\n",
       "3  0.000 0.000       0.009 0.253  0.033\n",
       "4  0.016 0.000       0.005 0.008  0.001\n",
       "5  0.001 0.005       0.794 0.053  0.001\n",
       "6  0.868 0.001       0.001 0.003  0.002\n",
       "7  0.064 0.000       0.004 0.002  0.000\n",
       "8  0.005 0.002       0.110 0.621  0.875\n",
       "9  0.000 0.003       0.056 0.013  0.030\n",
       "10 0.022 0.328       0.004 0.029  0.044\n",
       "11 0.011 0.511       0.009 0.001  0.001\n",
       "12 0.000 0.149       0.001 0.013  0.010"
      ]
     },
     "metadata": {},
     "output_type": "display_data"
    }
   ],
   "source": [
    "vif(model2)\n",
    "colldiag(model2)"
   ]
  },
  {
   "cell_type": "code",
   "execution_count": 231,
   "metadata": {},
   "outputs": [
    {
     "data": {
      "text/plain": [
       "\n",
       "Call:\n",
       "lm(formula = EXPENSES ~ ., data = NAICData[, -c(3, 5, 9, 12)])\n",
       "\n",
       "Residuals:\n",
       "      Min        1Q    Median        3Q       Max \n",
       "-0.172311 -0.004934  0.000505  0.005708  0.206638 \n",
       "\n",
       "Coefficients:\n",
       "              Estimate Std. Error t value Pr(>|t|)    \n",
       "(Intercept) -1.186e-02  1.382e-02  -0.858    0.391    \n",
       "RBC          2.437e-13  5.408e-14   4.507 9.49e-06 ***\n",
       "AGENTWAGE    1.021e-04  1.048e-04   0.974    0.331    \n",
       "SHORTLOSS    3.594e-01  3.940e-02   9.121  < 2e-16 ***\n",
       "GPWPERSONAL  1.974e-01  1.737e-02  11.366  < 2e-16 ***\n",
       "GPWCOMM      1.099e-01  1.298e-02   8.470 1.16e-15 ***\n",
       "CASH         6.109e-03  3.647e-03   1.675    0.095 .  \n",
       "LIQUIDRATIO  1.399e-04  1.074e-04   1.303    0.194    \n",
       "GROUP       -2.203e-03  4.315e-03  -0.511    0.610    \n",
       "MUTUAL      -9.994e-03  6.465e-03  -1.546    0.123    \n",
       "STOCK       -9.388e-03  5.962e-03  -1.575    0.116    \n",
       "---\n",
       "Signif. codes:  0 '***' 0.001 '**' 0.01 '*' 0.05 '.' 0.1 ' ' 1\n",
       "\n",
       "Residual standard error: 0.03228 on 296 degrees of freedom\n",
       "Multiple R-squared:  0.9421,\tAdjusted R-squared:  0.9402 \n",
       "F-statistic: 482.1 on 10 and 296 DF,  p-value: < 2.2e-16\n"
      ]
     },
     "metadata": {},
     "output_type": "display_data"
    }
   ],
   "source": [
    "model2corr <- lm(EXPENSES~.,data=NAICData[,-c(3,5,9,12)])\n",
    "summary(model2corr)"
   ]
  },
  {
   "cell_type": "code",
   "execution_count": 232,
   "metadata": {},
   "outputs": [
    {
     "data": {
      "text/html": [
       "<dl class=dl-horizontal>\n",
       "\t<dt>RBC</dt>\n",
       "\t\t<dd>3.49535231169186</dd>\n",
       "\t<dt>AGENTWAGE</dt>\n",
       "\t\t<dd>1.03262005754734</dd>\n",
       "\t<dt>SHORTLOSS</dt>\n",
       "\t\t<dd>7.45563884640556</dd>\n",
       "\t<dt>GPWPERSONAL</dt>\n",
       "\t\t<dd>3.21962508664221</dd>\n",
       "\t<dt>GPWCOMM</dt>\n",
       "\t\t<dd>5.61440634420559</dd>\n",
       "\t<dt>CASH</dt>\n",
       "\t\t<dd>4.14418004240041</dd>\n",
       "\t<dt>LIQUIDRATIO</dt>\n",
       "\t\t<dd>1.04514744725525</dd>\n",
       "\t<dt>GROUP</dt>\n",
       "\t\t<dd>1.30975120956172</dd>\n",
       "\t<dt>MUTUAL</dt>\n",
       "\t\t<dd>2.12312696700321</dd>\n",
       "\t<dt>STOCK</dt>\n",
       "\t\t<dd>2.40777622131544</dd>\n",
       "</dl>\n"
      ],
      "text/latex": [
       "\\begin{description*}\n",
       "\\item[RBC] 3.49535231169186\n",
       "\\item[AGENTWAGE] 1.03262005754734\n",
       "\\item[SHORTLOSS] 7.45563884640556\n",
       "\\item[GPWPERSONAL] 3.21962508664221\n",
       "\\item[GPWCOMM] 5.61440634420559\n",
       "\\item[CASH] 4.14418004240041\n",
       "\\item[LIQUIDRATIO] 1.04514744725525\n",
       "\\item[GROUP] 1.30975120956172\n",
       "\\item[MUTUAL] 2.12312696700321\n",
       "\\item[STOCK] 2.40777622131544\n",
       "\\end{description*}\n"
      ],
      "text/markdown": [
       "RBC\n",
       ":   3.49535231169186AGENTWAGE\n",
       ":   1.03262005754734SHORTLOSS\n",
       ":   7.45563884640556GPWPERSONAL\n",
       ":   3.21962508664221GPWCOMM\n",
       ":   5.61440634420559CASH\n",
       ":   4.14418004240041LIQUIDRATIO\n",
       ":   1.04514744725525GROUP\n",
       ":   1.30975120956172MUTUAL\n",
       ":   2.12312696700321STOCK\n",
       ":   2.40777622131544\n",
       "\n"
      ],
      "text/plain": [
       "        RBC   AGENTWAGE   SHORTLOSS GPWPERSONAL     GPWCOMM        CASH \n",
       "   3.495352    1.032620    7.455639    3.219625    5.614406    4.144180 \n",
       "LIQUIDRATIO       GROUP      MUTUAL       STOCK \n",
       "   1.045147    1.309751    2.123127    2.407776 "
      ]
     },
     "metadata": {},
     "output_type": "display_data"
    }
   ],
   "source": [
    "vif(model2corr)"
   ]
  },
  {
   "cell_type": "code",
   "execution_count": 233,
   "metadata": {},
   "outputs": [
    {
     "data": {
      "text/plain": [
       "Condition\n",
       "Index\tVariance Decomposition Proportions\n",
       "           intercept RBC   AGENTWAGE SHORTLOSS GPWPERSONAL GPWCOMM CASH \n",
       "1    1.000 0.000     0.004 0.001     0.002     0.004       0.003   0.003\n",
       "2    1.490 0.001     0.010 0.002     0.006     0.009       0.007   0.010\n",
       "3    2.396 0.000     0.000 0.000     0.000     0.004       0.000   0.000\n",
       "4    3.472 0.000     0.127 0.000     0.011     0.339       0.020   0.016\n",
       "5    4.580 0.003     0.003 0.010     0.007     0.000       0.000   0.001\n",
       "6    5.847 0.000     0.030 0.000     0.061     0.004       0.170   0.864\n",
       "7    5.909 0.000     0.817 0.000     0.032     0.159       0.239   0.071\n",
       "8    7.735 0.006     0.000 0.068     0.017     0.003       0.026   0.007\n",
       "9    8.576 0.000     0.001 0.001     0.856     0.470       0.492   0.000\n",
       "10  11.403 0.006     0.001 0.543     0.008     0.009       0.044   0.022\n",
       "11  22.078 0.983     0.007 0.374     0.000     0.000       0.000   0.007\n",
       "   LIQUIDRATIO GROUP MUTUAL STOCK\n",
       "1  0.001       0.005 0.001  0.002\n",
       "2  0.001       0.005 0.004  0.004\n",
       "3  0.000       0.009 0.256  0.032\n",
       "4  0.000       0.004 0.008  0.000\n",
       "5  0.008       0.812 0.040  0.005\n",
       "6  0.001       0.001 0.003  0.003\n",
       "7  0.000       0.006 0.002  0.000\n",
       "8  0.007       0.093 0.635  0.860\n",
       "9  0.004       0.058 0.017  0.036\n",
       "10 0.331       0.004 0.028  0.043\n",
       "11 0.648       0.003 0.006  0.014"
      ]
     },
     "metadata": {},
     "output_type": "display_data"
    }
   ],
   "source": [
    "colldiag(model2corr)"
   ]
  },
  {
   "cell_type": "code",
   "execution_count": 234,
   "metadata": {},
   "outputs": [
    {
     "data": {
      "text/plain": [
       "\n",
       "Call:\n",
       "lm(formula = EXPENSES ~ ., data = NAICData2[, -c(3, 5, 9, 11, \n",
       "    12)])\n",
       "\n",
       "Residuals:\n",
       "      Min        1Q    Median        3Q       Max \n",
       "-0.126173 -0.004611 -0.001841  0.003183  0.131758 \n",
       "\n",
       "Coefficients:\n",
       "              Estimate Std. Error t value Pr(>|t|)    \n",
       "(Intercept) -6.497e-03  7.953e-03  -0.817   0.4146    \n",
       "RBC          7.497e-14  9.379e-14   0.799   0.4247    \n",
       "AGENTWAGE    1.287e-04  8.850e-05   1.455   0.1468    \n",
       "SHORTLOSS    3.404e-01  5.143e-02   6.619 1.74e-10 ***\n",
       "GPWPERSONAL  1.898e-01  1.760e-02  10.784  < 2e-16 ***\n",
       "GPWCOMM      8.537e-02  1.476e-02   5.785 1.88e-08 ***\n",
       "CASH         2.270e-02  9.851e-03   2.304   0.0219 *  \n",
       "GROUP       -1.381e-03  3.691e-03  -0.374   0.7085    \n",
       "MUTUAL      -3.190e-03  5.480e-03  -0.582   0.5610    \n",
       "STOCK       -2.301e-04  5.057e-03  -0.045   0.9637    \n",
       "---\n",
       "Signif. codes:  0 '***' 0.001 '**' 0.01 '*' 0.05 '.' 0.1 ' ' 1\n",
       "\n",
       "Residual standard error: 0.02716 on 291 degrees of freedom\n",
       "Multiple R-squared:  0.8963,\tAdjusted R-squared:  0.8931 \n",
       "F-statistic: 279.4 on 9 and 291 DF,  p-value: < 2.2e-16\n"
      ]
     },
     "metadata": {},
     "output_type": "display_data"
    }
   ],
   "source": [
    "model3 <- lm(EXPENSES~.,data=NAICData2[,-c(3,5,9,11,12)])\n",
    "summary(model3)"
   ]
  },
  {
   "cell_type": "code",
   "execution_count": 235,
   "metadata": {},
   "outputs": [
    {
     "data": {
      "text/html": [
       "<dl class=dl-horizontal>\n",
       "\t<dt>RBC</dt>\n",
       "\t\t<dd>6.06944035488896</dd>\n",
       "\t<dt>AGENTWAGE</dt>\n",
       "\t\t<dd>1.03809418240374</dd>\n",
       "\t<dt>SHORTLOSS</dt>\n",
       "\t\t<dd>8.00482214414603</dd>\n",
       "\t<dt>GPWPERSONAL</dt>\n",
       "\t\t<dd>2.08056323182118</dd>\n",
       "\t<dt>GPWCOMM</dt>\n",
       "\t\t<dd>3.68458031398572</dd>\n",
       "\t<dt>CASH</dt>\n",
       "\t\t<dd>14.3160410945571</dd>\n",
       "\t<dt>GROUP</dt>\n",
       "\t\t<dd>1.33606625025082</dd>\n",
       "\t<dt>MUTUAL</dt>\n",
       "\t\t<dd>2.14276652244099</dd>\n",
       "\t<dt>STOCK</dt>\n",
       "\t\t<dd>2.41055761064994</dd>\n",
       "</dl>\n"
      ],
      "text/latex": [
       "\\begin{description*}\n",
       "\\item[RBC] 6.06944035488896\n",
       "\\item[AGENTWAGE] 1.03809418240374\n",
       "\\item[SHORTLOSS] 8.00482214414603\n",
       "\\item[GPWPERSONAL] 2.08056323182118\n",
       "\\item[GPWCOMM] 3.68458031398572\n",
       "\\item[CASH] 14.3160410945571\n",
       "\\item[GROUP] 1.33606625025082\n",
       "\\item[MUTUAL] 2.14276652244099\n",
       "\\item[STOCK] 2.41055761064994\n",
       "\\end{description*}\n"
      ],
      "text/markdown": [
       "RBC\n",
       ":   6.06944035488896AGENTWAGE\n",
       ":   1.03809418240374SHORTLOSS\n",
       ":   8.00482214414603GPWPERSONAL\n",
       ":   2.08056323182118GPWCOMM\n",
       ":   3.68458031398572CASH\n",
       ":   14.3160410945571GROUP\n",
       ":   1.33606625025082MUTUAL\n",
       ":   2.14276652244099STOCK\n",
       ":   2.41055761064994\n",
       "\n"
      ],
      "text/plain": [
       "        RBC   AGENTWAGE   SHORTLOSS GPWPERSONAL     GPWCOMM        CASH \n",
       "   6.069440    1.038094    8.004822    2.080563    3.684580   14.316041 \n",
       "      GROUP      MUTUAL       STOCK \n",
       "   1.336066    2.142767    2.410558 "
      ]
     },
     "metadata": {},
     "output_type": "display_data"
    }
   ],
   "source": [
    "vif(model3)"
   ]
  },
  {
   "cell_type": "code",
   "execution_count": 236,
   "metadata": {},
   "outputs": [
    {
     "data": {
      "text/plain": [
       "Condition\n",
       "Index\tVariance Decomposition Proportions\n",
       "           intercept RBC   AGENTWAGE SHORTLOSS GPWPERSONAL GPWCOMM CASH  GROUP\n",
       "1    1.000 0.001     0.003 0.001     0.002     0.007       0.005   0.001 0.006\n",
       "2    1.619 0.003     0.006 0.004     0.006     0.010       0.006   0.003 0.012\n",
       "3    2.312 0.000     0.001 0.000     0.000     0.006       0.000   0.000 0.007\n",
       "4    3.466 0.000     0.077 0.000     0.001     0.612       0.004   0.004 0.009\n",
       "5    4.552 0.011     0.012 0.020     0.026     0.001       0.002   0.000 0.761\n",
       "6    4.896 0.001     0.168 0.000     0.051     0.188       0.445   0.012 0.011\n",
       "7    5.766 0.000     0.069 0.002     0.252     0.154       0.426   0.035 0.101\n",
       "8    7.587 0.021     0.000 0.112     0.001     0.001       0.005   0.001 0.087\n",
       "9   12.044 0.013     0.655 0.013     0.636     0.012       0.102   0.898 0.007\n",
       "10  15.497 0.950     0.009 0.848     0.025     0.008       0.004   0.045 0.000\n",
       "   MUTUAL STOCK\n",
       "1  0.002  0.002\n",
       "2  0.005  0.009\n",
       "3  0.257  0.030\n",
       "4  0.010  0.000\n",
       "5  0.020  0.019\n",
       "6  0.001  0.001\n",
       "7  0.004  0.001\n",
       "8  0.629  0.831\n",
       "9  0.001  0.000\n",
       "10 0.070  0.106"
      ]
     },
     "metadata": {},
     "output_type": "display_data"
    }
   ],
   "source": [
    "colldiag(model3)"
   ]
  },
  {
   "cell_type": "markdown",
   "metadata": {},
   "source": [
    "<a id=\"step10\"></a>\n",
    "### Step 10: Heteroscadasticity Test"
   ]
  },
  {
   "cell_type": "markdown",
   "metadata": {},
   "source": [
    "+ From the residual plots for Model 3, from the above, it could be observed that no Hetereoscadasticity is present\n",
    "+ Also the tests have a p-value less than 0.05, and hence the tests also confirm the same"
   ]
  },
  {
   "cell_type": "code",
   "execution_count": 237,
   "metadata": {},
   "outputs": [
    {
     "data": {
      "image/png": "[encoded data removed]",
      "text/plain": [
       "plot without title"
      ]
     },
     "metadata": {},
     "output_type": "display_data"
    },
    {
     "data": {
      "text/html": [
       "<table>\n",
       "<thead><tr><th></th><th scope=col>Test stat</th><th scope=col>Pr(&gt;|t|)</th></tr></thead>\n",
       "<tbody>\n",
       "\t<tr><th scope=row>RBC</th><td>-8.081</td><td>0.000 </td></tr>\n",
       "\t<tr><th scope=row>AGENTWAGE</th><td> 0.789</td><td>0.431 </td></tr>\n",
       "\t<tr><th scope=row>SHORTLOSS</th><td>-7.208</td><td>0.000 </td></tr>\n",
       "\t<tr><th scope=row>GPWPERSONAL</th><td> 5.158</td><td>0.000 </td></tr>\n",
       "\t<tr><th scope=row>GPWCOMM</th><td>-7.256</td><td>0.000 </td></tr>\n",
       "\t<tr><th scope=row>CASH</th><td>-8.824</td><td>0.000 </td></tr>\n",
       "\t<tr><th scope=row>GROUP</th><td>-0.040</td><td>0.968 </td></tr>\n",
       "\t<tr><th scope=row>MUTUAL</th><td> 0.760</td><td>0.448 </td></tr>\n",
       "\t<tr><th scope=row>STOCK</th><td> 0.003</td><td>0.997 </td></tr>\n",
       "\t<tr><th scope=row>Tukey test</th><td>-5.637</td><td>0.000 </td></tr>\n",
       "</tbody>\n",
       "</table>\n"
      ],
      "text/latex": [
       "\\begin{tabular}{r|ll}\n",
       "  & Test stat & Pr(>\\textbar{}t\\textbar{})\\\\\n",
       "\\hline\n",
       "\tRBC & -8.081 & 0.000 \\\\\n",
       "\tAGENTWAGE &  0.789 & 0.431 \\\\\n",
       "\tSHORTLOSS & -7.208 & 0.000 \\\\\n",
       "\tGPWPERSONAL &  5.158 & 0.000 \\\\\n",
       "\tGPWCOMM & -7.256 & 0.000 \\\\\n",
       "\tCASH & -8.824 & 0.000 \\\\\n",
       "\tGROUP & -0.040 & 0.968 \\\\\n",
       "\tMUTUAL &  0.760 & 0.448 \\\\\n",
       "\tSTOCK &  0.003 & 0.997 \\\\\n",
       "\tTukey test & -5.637 & 0.000 \\\\\n",
       "\\end{tabular}\n"
      ],
      "text/markdown": [
       "\n",
       "| <!--/--> | Test stat | Pr(>|t|) | \n",
       "|---|---|---|---|---|---|---|---|---|---|\n",
       "| RBC | -8.081 | 0.000  | \n",
       "| AGENTWAGE |  0.789 | 0.431  | \n",
       "| SHORTLOSS | -7.208 | 0.000  | \n",
       "| GPWPERSONAL |  5.158 | 0.000  | \n",
       "| GPWCOMM | -7.256 | 0.000  | \n",
       "| CASH | -8.824 | 0.000  | \n",
       "| GROUP | -0.040 | 0.968  | \n",
       "| MUTUAL |  0.760 | 0.448  | \n",
       "| STOCK |  0.003 | 0.997  | \n",
       "| Tukey test | -5.637 | 0.000  | \n",
       "\n",
       "\n"
      ],
      "text/plain": [
       "            Test stat Pr(>|t|)\n",
       "RBC         -8.081    0.000   \n",
       "AGENTWAGE    0.789    0.431   \n",
       "SHORTLOSS   -7.208    0.000   \n",
       "GPWPERSONAL  5.158    0.000   \n",
       "GPWCOMM     -7.256    0.000   \n",
       "CASH        -8.824    0.000   \n",
       "GROUP       -0.040    0.968   \n",
       "MUTUAL       0.760    0.448   \n",
       "STOCK        0.003    0.997   \n",
       "Tukey test  -5.637    0.000   "
      ]
     },
     "metadata": {},
     "output_type": "display_data"
    },
    {
     "data": {
      "image/png": "[encoded data removed]",
      "text/plain": [
       "plot without title"
      ]
     },
     "metadata": {},
     "output_type": "display_data"
    }
   ],
   "source": [
    "residualPlots(model3)"
   ]
  },
  {
   "cell_type": "code",
   "execution_count": 238,
   "metadata": {},
   "outputs": [
    {
     "data": {
      "text/plain": [
       "\n",
       "\tstudentized Breusch-Pagan test\n",
       "\n",
       "data:  model3\n",
       "BP = 163.46, df = 9, p-value < 2.2e-16\n"
      ]
     },
     "metadata": {},
     "output_type": "display_data"
    }
   ],
   "source": [
    "lmtest::bptest(model3)"
   ]
  },
  {
   "cell_type": "code",
   "execution_count": 239,
   "metadata": {},
   "outputs": [
    {
     "data": {
      "text/plain": [
       "Non-constant Variance Score Test \n",
       "Variance formula: ~ fitted.values \n",
       "Chisquare = 617.9809    Df = 1     p = 2.055407e-136 "
      ]
     },
     "metadata": {},
     "output_type": "display_data"
    }
   ],
   "source": [
    "car::ncvTest(model3) "
   ]
  },
  {
   "cell_type": "markdown",
   "metadata": {},
   "source": [
    "<a id=\"step11\"></a>\n",
    "### Step 11: Normality of Response Variable & Transformation"
   ]
  },
  {
   "cell_type": "code",
   "execution_count": 300,
   "metadata": {},
   "outputs": [
    {
     "data": {
      "image/png": "[encoded data removed]",
      "text/plain": [
       "Plot with title \"Model 3\""
      ]
     },
     "metadata": {},
     "output_type": "display_data"
    }
   ],
   "source": [
    "StudentResidualPlot(model3, \"Model 3\")"
   ]
  },
  {
   "cell_type": "code",
   "execution_count": 240,
   "metadata": {},
   "outputs": [],
   "source": [
    "NAICData2$EXPENSES2 <- NAICData2$EXPENSES^2"
   ]
  },
  {
   "cell_type": "code",
   "execution_count": 241,
   "metadata": {},
   "outputs": [],
   "source": [
    "NAICData2$RBC2 <- NAICData2$RBC^2\n",
    "NAICData2$SHORTLOSS2 <- NAICData2$SHORTLOSS^2\n",
    "NAICData2$GPWPERSONAL2 <- NAICData2$GPWPERSONAL^2\n",
    "NAICData2$CASH2 <- NAICData2$CASH^2\n",
    "NAICData2$GPWCOMM2 <- NAICData2$GPWCOMM^2"
   ]
  },
  {
   "cell_type": "code",
   "execution_count": 242,
   "metadata": {},
   "outputs": [
    {
     "data": {
      "text/html": [
       "<ol class=list-inline>\n",
       "\t<li>'RBC'</li>\n",
       "\t<li>'EXPENSES'</li>\n",
       "\t<li>'STAFFWAGE'</li>\n",
       "\t<li>'AGENTWAGE'</li>\n",
       "\t<li>'LONGLOSS'</li>\n",
       "\t<li>'SHORTLOSS'</li>\n",
       "\t<li>'GPWPERSONAL'</li>\n",
       "\t<li>'GPWCOMM'</li>\n",
       "\t<li>'ASSETS'</li>\n",
       "\t<li>'CASH'</li>\n",
       "\t<li>'LIQUIDRATIO'</li>\n",
       "\t<li>'COMPANY_NAME'</li>\n",
       "\t<li>'GROUP'</li>\n",
       "\t<li>'MUTUAL'</li>\n",
       "\t<li>'STOCK'</li>\n",
       "\t<li>'EXPENSES2'</li>\n",
       "\t<li>'RBC2'</li>\n",
       "\t<li>'SHORTLOSS2'</li>\n",
       "\t<li>'GPWPERSONAL2'</li>\n",
       "\t<li>'CASH2'</li>\n",
       "\t<li>'GPWCOMM2'</li>\n",
       "</ol>\n"
      ],
      "text/latex": [
       "\\begin{enumerate*}\n",
       "\\item 'RBC'\n",
       "\\item 'EXPENSES'\n",
       "\\item 'STAFFWAGE'\n",
       "\\item 'AGENTWAGE'\n",
       "\\item 'LONGLOSS'\n",
       "\\item 'SHORTLOSS'\n",
       "\\item 'GPWPERSONAL'\n",
       "\\item 'GPWCOMM'\n",
       "\\item 'ASSETS'\n",
       "\\item 'CASH'\n",
       "\\item 'LIQUIDRATIO'\n",
       "\\item 'COMPANY\\_NAME'\n",
       "\\item 'GROUP'\n",
       "\\item 'MUTUAL'\n",
       "\\item 'STOCK'\n",
       "\\item 'EXPENSES2'\n",
       "\\item 'RBC2'\n",
       "\\item 'SHORTLOSS2'\n",
       "\\item 'GPWPERSONAL2'\n",
       "\\item 'CASH2'\n",
       "\\item 'GPWCOMM2'\n",
       "\\end{enumerate*}\n"
      ],
      "text/markdown": [
       "1. 'RBC'\n",
       "2. 'EXPENSES'\n",
       "3. 'STAFFWAGE'\n",
       "4. 'AGENTWAGE'\n",
       "5. 'LONGLOSS'\n",
       "6. 'SHORTLOSS'\n",
       "7. 'GPWPERSONAL'\n",
       "8. 'GPWCOMM'\n",
       "9. 'ASSETS'\n",
       "10. 'CASH'\n",
       "11. 'LIQUIDRATIO'\n",
       "12. 'COMPANY_NAME'\n",
       "13. 'GROUP'\n",
       "14. 'MUTUAL'\n",
       "15. 'STOCK'\n",
       "16. 'EXPENSES2'\n",
       "17. 'RBC2'\n",
       "18. 'SHORTLOSS2'\n",
       "19. 'GPWPERSONAL2'\n",
       "20. 'CASH2'\n",
       "21. 'GPWCOMM2'\n",
       "\n",
       "\n"
      ],
      "text/plain": [
       " [1] \"RBC\"          \"EXPENSES\"     \"STAFFWAGE\"    \"AGENTWAGE\"    \"LONGLOSS\"    \n",
       " [6] \"SHORTLOSS\"    \"GPWPERSONAL\"  \"GPWCOMM\"      \"ASSETS\"       \"CASH\"        \n",
       "[11] \"LIQUIDRATIO\"  \"COMPANY_NAME\" \"GROUP\"        \"MUTUAL\"       \"STOCK\"       \n",
       "[16] \"EXPENSES2\"    \"RBC2\"         \"SHORTLOSS2\"   \"GPWPERSONAL2\" \"CASH2\"       \n",
       "[21] \"GPWCOMM2\"    "
      ]
     },
     "metadata": {},
     "output_type": "display_data"
    }
   ],
   "source": [
    "names(NAICData2)"
   ]
  },
  {
   "cell_type": "code",
   "execution_count": 243,
   "metadata": {},
   "outputs": [
    {
     "data": {
      "text/plain": [
       "\n",
       "Call:\n",
       "lm(formula = EXPENSES2 ~ ., data = NAICData2[, -c(2, 3, 5, 9, \n",
       "    11, 12, 18, 19)])\n",
       "\n",
       "Residuals:\n",
       "      Min        1Q    Median        3Q       Max \n",
       "-0.065764 -0.001317  0.000188  0.003063  0.076805 \n",
       "\n",
       "Coefficients:\n",
       "              Estimate Std. Error t value Pr(>|t|)    \n",
       "(Intercept) -2.905e-03  3.532e-03  -0.823   0.4114    \n",
       "RBC          6.734e-14  9.778e-14   0.689   0.4916    \n",
       "AGENTWAGE    4.206e-05  3.929e-05   1.071   0.2852    \n",
       "SHORTLOSS    1.692e-01  2.655e-02   6.371 7.44e-10 ***\n",
       "GPWPERSONAL  7.220e-02  9.065e-03   7.965 3.86e-14 ***\n",
       "GPWCOMM     -6.760e-02  1.603e-02  -4.218 3.30e-05 ***\n",
       "CASH         1.619e-02  7.671e-03   2.110   0.0357 *  \n",
       "GROUP       -2.788e-03  1.669e-03  -1.670   0.0960 .  \n",
       "MUTUAL      -4.100e-03  2.433e-03  -1.685   0.0930 .  \n",
       "STOCK       -1.744e-04  2.230e-03  -0.078   0.9377    \n",
       "RBC2        -1.084e-24  2.438e-25  -4.445 1.26e-05 ***\n",
       "CASH2        2.465e-03  1.308e-03   1.884   0.0605 .  \n",
       "GPWCOMM2     9.480e-02  1.507e-02   6.291 1.17e-09 ***\n",
       "---\n",
       "Signif. codes:  0 '***' 0.001 '**' 0.01 '*' 0.05 '.' 0.1 ' ' 1\n",
       "\n",
       "Residual standard error: 0.01196 on 288 degrees of freedom\n",
       "Multiple R-squared:  0.9321,\tAdjusted R-squared:  0.9293 \n",
       "F-statistic: 329.4 on 12 and 288 DF,  p-value: < 2.2e-16\n"
      ]
     },
     "metadata": {},
     "output_type": "display_data"
    }
   ],
   "source": [
    "model3corr <- lm(EXPENSES2~.,data=NAICData2[,-c(2,3,5,9,11,12,18,19)])\n",
    "summary(model3corr)"
   ]
  },
  {
   "cell_type": "code",
   "execution_count": 244,
   "metadata": {},
   "outputs": [
    {
     "data": {
      "image/png": "[encoded data removed]",
      "text/plain": [
       "plot without title"
      ]
     },
     "metadata": {},
     "output_type": "display_data"
    },
    {
     "data": {
      "text/html": [
       "<table>\n",
       "<thead><tr><th></th><th scope=col>Test stat</th><th scope=col>Pr(&gt;|t|)</th></tr></thead>\n",
       "<tbody>\n",
       "\t<tr><th scope=row>RBC</th><td> 0.588</td><td>0.557 </td></tr>\n",
       "\t<tr><th scope=row>AGENTWAGE</th><td> 1.053</td><td>0.293 </td></tr>\n",
       "\t<tr><th scope=row>SHORTLOSS</th><td> 0.715</td><td>0.475 </td></tr>\n",
       "\t<tr><th scope=row>GPWPERSONAL</th><td>11.562</td><td>0.000 </td></tr>\n",
       "\t<tr><th scope=row>GPWCOMM</th><td>-0.095</td><td>0.924 </td></tr>\n",
       "\t<tr><th scope=row>CASH</th><td> 1.007</td><td>0.315 </td></tr>\n",
       "\t<tr><th scope=row>GROUP</th><td>-0.596</td><td>0.552 </td></tr>\n",
       "\t<tr><th scope=row>MUTUAL</th><td> 0.564</td><td>0.573 </td></tr>\n",
       "\t<tr><th scope=row>STOCK</th><td> 0.059</td><td>0.953 </td></tr>\n",
       "\t<tr><th scope=row>RBC2</th><td>-2.840</td><td>0.005 </td></tr>\n",
       "\t<tr><th scope=row>CASH2</th><td>-5.439</td><td>0.000 </td></tr>\n",
       "\t<tr><th scope=row>GPWCOMM2</th><td>-3.226</td><td>0.001 </td></tr>\n",
       "\t<tr><th scope=row>Tukey test</th><td>-0.122</td><td>0.903 </td></tr>\n",
       "</tbody>\n",
       "</table>\n"
      ],
      "text/latex": [
       "\\begin{tabular}{r|ll}\n",
       "  & Test stat & Pr(>\\textbar{}t\\textbar{})\\\\\n",
       "\\hline\n",
       "\tRBC &  0.588 & 0.557 \\\\\n",
       "\tAGENTWAGE &  1.053 & 0.293 \\\\\n",
       "\tSHORTLOSS &  0.715 & 0.475 \\\\\n",
       "\tGPWPERSONAL & 11.562 & 0.000 \\\\\n",
       "\tGPWCOMM & -0.095 & 0.924 \\\\\n",
       "\tCASH &  1.007 & 0.315 \\\\\n",
       "\tGROUP & -0.596 & 0.552 \\\\\n",
       "\tMUTUAL &  0.564 & 0.573 \\\\\n",
       "\tSTOCK &  0.059 & 0.953 \\\\\n",
       "\tRBC2 & -2.840 & 0.005 \\\\\n",
       "\tCASH2 & -5.439 & 0.000 \\\\\n",
       "\tGPWCOMM2 & -3.226 & 0.001 \\\\\n",
       "\tTukey test & -0.122 & 0.903 \\\\\n",
       "\\end{tabular}\n"
      ],
      "text/markdown": [
       "\n",
       "| <!--/--> | Test stat | Pr(>|t|) | \n",
       "|---|---|---|---|---|---|---|---|---|---|---|---|---|\n",
       "| RBC |  0.588 | 0.557  | \n",
       "| AGENTWAGE |  1.053 | 0.293  | \n",
       "| SHORTLOSS |  0.715 | 0.475  | \n",
       "| GPWPERSONAL | 11.562 | 0.000  | \n",
       "| GPWCOMM | -0.095 | 0.924  | \n",
       "| CASH |  1.007 | 0.315  | \n",
       "| GROUP | -0.596 | 0.552  | \n",
       "| MUTUAL |  0.564 | 0.573  | \n",
       "| STOCK |  0.059 | 0.953  | \n",
       "| RBC2 | -2.840 | 0.005  | \n",
       "| CASH2 | -5.439 | 0.000  | \n",
       "| GPWCOMM2 | -3.226 | 0.001  | \n",
       "| Tukey test | -0.122 | 0.903  | \n",
       "\n",
       "\n"
      ],
      "text/plain": [
       "            Test stat Pr(>|t|)\n",
       "RBC          0.588    0.557   \n",
       "AGENTWAGE    1.053    0.293   \n",
       "SHORTLOSS    0.715    0.475   \n",
       "GPWPERSONAL 11.562    0.000   \n",
       "GPWCOMM     -0.095    0.924   \n",
       "CASH         1.007    0.315   \n",
       "GROUP       -0.596    0.552   \n",
       "MUTUAL       0.564    0.573   \n",
       "STOCK        0.059    0.953   \n",
       "RBC2        -2.840    0.005   \n",
       "CASH2       -5.439    0.000   \n",
       "GPWCOMM2    -3.226    0.001   \n",
       "Tukey test  -0.122    0.903   "
      ]
     },
     "metadata": {},
     "output_type": "display_data"
    },
    {
     "data": {
      "image/png": "[encoded data removed]",
      "text/plain": [
       "plot without title"
      ]
     },
     "metadata": {},
     "output_type": "display_data"
    }
   ],
   "source": [
    "residualPlots(model3corr)"
   ]
  },
  {
   "cell_type": "code",
   "execution_count": 245,
   "metadata": {
    "scrolled": true
   },
   "outputs": [
    {
     "data": {
      "text/plain": [
       "\n",
       "Call:\n",
       "lm(formula = EXPENSES2 ~ ., data = NAICData2[, -c(2, 3, 5, 9, \n",
       "    11, 12, 18, 7, 22)])\n",
       "\n",
       "Residuals:\n",
       "      Min        1Q    Median        3Q       Max \n",
       "-0.053950 -0.001052  0.000087  0.001985  0.058481 \n",
       "\n",
       "Coefficients:\n",
       "               Estimate Std. Error t value Pr(>|t|)    \n",
       "(Intercept)  -2.406e-03  3.060e-03  -0.786  0.43246    \n",
       "RBC           1.662e-13  8.514e-14   1.952  0.05196 .  \n",
       "AGENTWAGE     3.830e-05  3.404e-05   1.125  0.26140    \n",
       "SHORTLOSS     1.572e-01  2.236e-02   7.031 1.49e-11 ***\n",
       "GPWCOMM      -6.147e-02  1.388e-02  -4.429 1.34e-05 ***\n",
       "CASH          1.074e-03  6.806e-03   0.158  0.87467    \n",
       "GROUP        -1.226e-03  1.448e-03  -0.846  0.39807    \n",
       "MUTUAL       -2.866e-03  2.109e-03  -1.359  0.17516    \n",
       "STOCK         2.866e-04  1.932e-03   0.148  0.88222    \n",
       "RBC2         -1.010e-24  2.110e-25  -4.789 2.69e-06 ***\n",
       "GPWPERSONAL2  1.669e-01  1.244e-02  13.417  < 2e-16 ***\n",
       "CASH2         3.113e-03  1.126e-03   2.766  0.00605 ** \n",
       "GPWCOMM2      9.311e-02  1.305e-02   7.137 7.78e-12 ***\n",
       "---\n",
       "Signif. codes:  0 '***' 0.001 '**' 0.01 '*' 0.05 '.' 0.1 ' ' 1\n",
       "\n",
       "Residual standard error: 0.01037 on 288 degrees of freedom\n",
       "Multiple R-squared:  0.949,\tAdjusted R-squared:  0.9469 \n",
       "F-statistic: 446.6 on 12 and 288 DF,  p-value: < 2.2e-16\n"
      ]
     },
     "metadata": {},
     "output_type": "display_data"
    }
   ],
   "source": [
    "model4 <- lm(EXPENSES2~.,data=NAICData2[,-c(2,3,5,9,11,12,18,7,22)])\n",
    "summary(model4)"
   ]
  },
  {
   "cell_type": "code",
   "execution_count": 246,
   "metadata": {},
   "outputs": [
    {
     "data": {
      "image/png": "[encoded data removed]",
      "text/plain": [
       "plot without title"
      ]
     },
     "metadata": {},
     "output_type": "display_data"
    },
    {
     "data": {
      "text/html": [
       "<table>\n",
       "<thead><tr><th></th><th scope=col>Test stat</th><th scope=col>Pr(&gt;|t|)</th></tr></thead>\n",
       "<tbody>\n",
       "\t<tr><th scope=row>RBC</th><td>-2.190</td><td>0.029 </td></tr>\n",
       "\t<tr><th scope=row>AGENTWAGE</th><td> 0.641</td><td>0.522 </td></tr>\n",
       "\t<tr><th scope=row>SHORTLOSS</th><td> 3.442</td><td>0.001 </td></tr>\n",
       "\t<tr><th scope=row>GPWCOMM</th><td> 1.783</td><td>0.076 </td></tr>\n",
       "\t<tr><th scope=row>CASH</th><td>-0.718</td><td>0.473 </td></tr>\n",
       "\t<tr><th scope=row>GROUP</th><td>-0.066</td><td>0.947 </td></tr>\n",
       "\t<tr><th scope=row>MUTUAL</th><td> 0.397</td><td>0.692 </td></tr>\n",
       "\t<tr><th scope=row>STOCK</th><td> 0.122</td><td>0.903 </td></tr>\n",
       "\t<tr><th scope=row>RBC2</th><td>-0.429</td><td>0.668 </td></tr>\n",
       "\t<tr><th scope=row>GPWPERSONAL2</th><td> 1.239</td><td>0.216 </td></tr>\n",
       "\t<tr><th scope=row>CASH2</th><td>-1.077</td><td>0.283 </td></tr>\n",
       "\t<tr><th scope=row>GPWCOMM2</th><td> 0.240</td><td>0.811 </td></tr>\n",
       "\t<tr><th scope=row>Tukey test</th><td> 4.081</td><td>0.000 </td></tr>\n",
       "</tbody>\n",
       "</table>\n"
      ],
      "text/latex": [
       "\\begin{tabular}{r|ll}\n",
       "  & Test stat & Pr(>\\textbar{}t\\textbar{})\\\\\n",
       "\\hline\n",
       "\tRBC & -2.190 & 0.029 \\\\\n",
       "\tAGENTWAGE &  0.641 & 0.522 \\\\\n",
       "\tSHORTLOSS &  3.442 & 0.001 \\\\\n",
       "\tGPWCOMM &  1.783 & 0.076 \\\\\n",
       "\tCASH & -0.718 & 0.473 \\\\\n",
       "\tGROUP & -0.066 & 0.947 \\\\\n",
       "\tMUTUAL &  0.397 & 0.692 \\\\\n",
       "\tSTOCK &  0.122 & 0.903 \\\\\n",
       "\tRBC2 & -0.429 & 0.668 \\\\\n",
       "\tGPWPERSONAL2 &  1.239 & 0.216 \\\\\n",
       "\tCASH2 & -1.077 & 0.283 \\\\\n",
       "\tGPWCOMM2 &  0.240 & 0.811 \\\\\n",
       "\tTukey test &  4.081 & 0.000 \\\\\n",
       "\\end{tabular}\n"
      ],
      "text/markdown": [
       "\n",
       "| <!--/--> | Test stat | Pr(>|t|) | \n",
       "|---|---|---|---|---|---|---|---|---|---|---|---|---|\n",
       "| RBC | -2.190 | 0.029  | \n",
       "| AGENTWAGE |  0.641 | 0.522  | \n",
       "| SHORTLOSS |  3.442 | 0.001  | \n",
       "| GPWCOMM |  1.783 | 0.076  | \n",
       "| CASH | -0.718 | 0.473  | \n",
       "| GROUP | -0.066 | 0.947  | \n",
       "| MUTUAL |  0.397 | 0.692  | \n",
       "| STOCK |  0.122 | 0.903  | \n",
       "| RBC2 | -0.429 | 0.668  | \n",
       "| GPWPERSONAL2 |  1.239 | 0.216  | \n",
       "| CASH2 | -1.077 | 0.283  | \n",
       "| GPWCOMM2 |  0.240 | 0.811  | \n",
       "| Tukey test |  4.081 | 0.000  | \n",
       "\n",
       "\n"
      ],
      "text/plain": [
       "             Test stat Pr(>|t|)\n",
       "RBC          -2.190    0.029   \n",
       "AGENTWAGE     0.641    0.522   \n",
       "SHORTLOSS     3.442    0.001   \n",
       "GPWCOMM       1.783    0.076   \n",
       "CASH         -0.718    0.473   \n",
       "GROUP        -0.066    0.947   \n",
       "MUTUAL        0.397    0.692   \n",
       "STOCK         0.122    0.903   \n",
       "RBC2         -0.429    0.668   \n",
       "GPWPERSONAL2  1.239    0.216   \n",
       "CASH2        -1.077    0.283   \n",
       "GPWCOMM2      0.240    0.811   \n",
       "Tukey test    4.081    0.000   "
      ]
     },
     "metadata": {},
     "output_type": "display_data"
    },
    {
     "data": {
      "image/png": "[encoded data removed]",
      "text/plain": [
       "plot without title"
      ]
     },
     "metadata": {},
     "output_type": "display_data"
    }
   ],
   "source": [
    "residualPlots(model4)"
   ]
  },
  {
   "cell_type": "code",
   "execution_count": 268,
   "metadata": {},
   "outputs": [
    {
     "name": "stdout",
     "output_type": "stream",
     "text": [
      "Start:  AIC=-2737.95\n",
      "EXPENSES2 ~ RBC + AGENTWAGE + SHORTLOSS + GPWCOMM + CASH + GROUP + \n",
      "    MUTUAL + STOCK + RBC2 + GPWPERSONAL2 + CASH2 + GPWCOMM2\n",
      "\n",
      "               Df Sum of Sq      RSS     AIC\n",
      "- STOCK         1 0.0000024 0.030950 -2739.9\n",
      "- CASH          1 0.0000027 0.030951 -2739.9\n",
      "- GROUP         1 0.0000770 0.031025 -2739.2\n",
      "- AGENTWAGE     1 0.0001361 0.031084 -2738.6\n",
      "- MUTUAL        1 0.0001985 0.031146 -2738.0\n",
      "<none>                      0.030948 -2737.9\n",
      "- RBC           1 0.0004093 0.031357 -2736.0\n",
      "- CASH2         1 0.0008220 0.031770 -2732.1\n",
      "- GPWCOMM       1 0.0021082 0.033056 -2720.1\n",
      "- RBC2          1 0.0024641 0.033412 -2716.9\n",
      "- SHORTLOSS     1 0.0053126 0.036261 -2692.3\n",
      "- GPWCOMM2      1 0.0054735 0.036421 -2690.9\n",
      "- GPWPERSONAL2  1 0.0193453 0.050293 -2593.8\n",
      "\n",
      "Step:  AIC=-2739.93\n",
      "EXPENSES2 ~ RBC + AGENTWAGE + SHORTLOSS + GPWCOMM + CASH + GROUP + \n",
      "    MUTUAL + RBC2 + GPWPERSONAL2 + CASH2 + GPWCOMM2\n",
      "\n",
      "               Df Sum of Sq      RSS     AIC\n",
      "- CASH          1 0.0000026 0.030953 -2741.9\n",
      "- GROUP         1 0.0000768 0.031027 -2741.2\n",
      "- AGENTWAGE     1 0.0001354 0.031086 -2740.6\n",
      "<none>                      0.030950 -2739.9\n",
      "- RBC           1 0.0004084 0.031359 -2738.0\n",
      "- MUTUAL        1 0.0004633 0.031414 -2737.5\n",
      "- CASH2         1 0.0008229 0.031773 -2734.0\n",
      "- GPWCOMM       1 0.0021059 0.033056 -2722.1\n",
      "- RBC2          1 0.0024618 0.033412 -2718.9\n",
      "- SHORTLOSS     1 0.0053369 0.036287 -2694.0\n",
      "- GPWCOMM2      1 0.0054722 0.036423 -2692.9\n",
      "- GPWPERSONAL2  1 0.0193463 0.050297 -2595.8\n",
      "\n",
      "Step:  AIC=-2741.9\n",
      "EXPENSES2 ~ RBC + AGENTWAGE + SHORTLOSS + GPWCOMM + GROUP + MUTUAL + \n",
      "    RBC2 + GPWPERSONAL2 + CASH2 + GPWCOMM2\n",
      "\n",
      "               Df Sum of Sq      RSS     AIC\n",
      "- GROUP         1 0.0000762 0.031029 -2743.2\n",
      "- AGENTWAGE     1 0.0001335 0.031086 -2742.6\n",
      "<none>                      0.030953 -2741.9\n",
      "- MUTUAL        1 0.0004607 0.031414 -2739.5\n",
      "- RBC           1 0.0008729 0.031826 -2735.5\n",
      "- CASH2         1 0.0023709 0.033324 -2721.7\n",
      "- GPWCOMM       1 0.0024578 0.033411 -2720.9\n",
      "- RBC2          1 0.0028378 0.033791 -2717.5\n",
      "- SHORTLOSS     1 0.0055046 0.036457 -2694.6\n",
      "- GPWCOMM2      1 0.0069910 0.037944 -2682.6\n",
      "- GPWPERSONAL2  1 0.0228479 0.053801 -2577.5\n",
      "\n",
      "Step:  AIC=-2743.16\n",
      "EXPENSES2 ~ RBC + AGENTWAGE + SHORTLOSS + GPWCOMM + MUTUAL + \n",
      "    RBC2 + GPWPERSONAL2 + CASH2 + GPWCOMM2\n",
      "\n",
      "               Df Sum of Sq      RSS     AIC\n",
      "- AGENTWAGE     1 0.0001342 0.031163 -2743.9\n",
      "<none>                      0.031029 -2743.2\n",
      "- MUTUAL        1 0.0004027 0.031432 -2741.3\n",
      "- RBC           1 0.0008927 0.031922 -2736.6\n",
      "- CASH2         1 0.0023019 0.033331 -2723.6\n",
      "- RBC2          1 0.0028582 0.033887 -2718.6\n",
      "- GPWCOMM       1 0.0028786 0.033908 -2718.5\n",
      "- SHORTLOSS     1 0.0054533 0.036482 -2696.4\n",
      "- GPWCOMM2      1 0.0077948 0.038824 -2677.7\n",
      "- GPWPERSONAL2  1 0.0231273 0.054156 -2577.5\n",
      "\n",
      "Step:  AIC=-2743.86\n",
      "EXPENSES2 ~ RBC + SHORTLOSS + GPWCOMM + MUTUAL + RBC2 + GPWPERSONAL2 + \n",
      "    CASH2 + GPWCOMM2\n",
      "\n",
      "               Df Sum of Sq      RSS     AIC\n",
      "<none>                      0.031163 -2743.9\n",
      "- MUTUAL        1 0.0003845 0.031548 -2742.2\n",
      "- RBC           1 0.0008128 0.031976 -2738.1\n",
      "- CASH2         1 0.0022916 0.033455 -2724.5\n",
      "- RBC2          1 0.0027555 0.033919 -2720.4\n",
      "- GPWCOMM       1 0.0027667 0.033930 -2720.3\n",
      "- SHORTLOSS     1 0.0055946 0.036758 -2696.2\n",
      "- GPWCOMM2      1 0.0076741 0.038837 -2679.6\n",
      "- GPWPERSONAL2  1 0.0231723 0.054336 -2578.5\n"
     ]
    },
    {
     "data": {
      "text/plain": [
       "\n",
       "Call:\n",
       "lm(formula = EXPENSES2 ~ RBC + SHORTLOSS + GPWCOMM + MUTUAL + \n",
       "    RBC2 + GPWPERSONAL2 + CASH2 + GPWCOMM2, data = NAICData2[, \n",
       "    -c(2, 3, 5, 9, 11, 12, 18, 7, 22)])\n",
       "\n",
       "Coefficients:\n",
       " (Intercept)           RBC     SHORTLOSS       GPWCOMM        MUTUAL  \n",
       "   6.500e-05     1.671e-13     1.587e-01    -6.151e-02    -2.739e-03  \n",
       "        RBC2  GPWPERSONAL2         CASH2      GPWCOMM2  \n",
       "  -9.990e-25     1.684e-01     3.172e-03     9.326e-02  \n"
      ]
     },
     "metadata": {},
     "output_type": "display_data"
    }
   ],
   "source": [
    "stepAIC(model4)"
   ]
  },
  {
   "cell_type": "code",
   "execution_count": 270,
   "metadata": {},
   "outputs": [
    {
     "data": {
      "text/plain": [
       "\n",
       "Call:\n",
       "lm(formula = EXPENSES2 ~ RBC + SHORTLOSS + GPWCOMM + MUTUAL + \n",
       "    RBC2 + GPWPERSONAL2 + CASH2 + GPWCOMM2, data = NAICData2[, \n",
       "    -c(2, 3, 5, 9, 11, 12, 18, 7, 22)])\n",
       "\n",
       "Residuals:\n",
       "      Min        1Q    Median        3Q       Max \n",
       "-0.054269 -0.000595  0.000048  0.001662  0.058797 \n",
       "\n",
       "Coefficients:\n",
       "               Estimate Std. Error t value Pr(>|t|)    \n",
       "(Intercept)   6.500e-05  7.942e-04   0.082  0.93483    \n",
       "RBC           1.671e-13  6.055e-14   2.760  0.00615 ** \n",
       "SHORTLOSS     1.587e-01  2.191e-02   7.240 3.99e-12 ***\n",
       "GPWCOMM      -6.151e-02  1.208e-02  -5.092 6.38e-07 ***\n",
       "MUTUAL       -2.739e-03  1.443e-03  -1.898  0.05867 .  \n",
       "RBC2         -9.990e-25  1.966e-25  -5.081 6.70e-07 ***\n",
       "GPWPERSONAL2  1.684e-01  1.143e-02  14.735  < 2e-16 ***\n",
       "CASH2         3.172e-03  6.846e-04   4.634 5.42e-06 ***\n",
       "GPWCOMM2      9.326e-02  1.100e-02   8.480 1.14e-15 ***\n",
       "---\n",
       "Signif. codes:  0 '***' 0.001 '**' 0.01 '*' 0.05 '.' 0.1 ' ' 1\n",
       "\n",
       "Residual standard error: 0.01033 on 292 degrees of freedom\n",
       "Multiple R-squared:  0.9486,\tAdjusted R-squared:  0.9472 \n",
       "F-statistic: 674.3 on 8 and 292 DF,  p-value: < 2.2e-16\n"
      ]
     },
     "metadata": {},
     "output_type": "display_data"
    }
   ],
   "source": [
    "model4a <- lm(formula = EXPENSES2 ~ RBC + SHORTLOSS + GPWCOMM + MUTUAL + \n",
    "    RBC2 + GPWPERSONAL2 + CASH2 + GPWCOMM2, data = NAICData2[, \n",
    "    -c(2, 3, 5, 9, 11, 12, 18, 7, 22)])\n",
    "summary(model4a)"
   ]
  },
  {
   "cell_type": "code",
   "execution_count": 271,
   "metadata": {},
   "outputs": [
    {
     "data": {
      "text/html": [
       "<table>\n",
       "<thead><tr><th></th><th scope=col>Test stat</th><th scope=col>Pr(&gt;|t|)</th></tr></thead>\n",
       "<tbody>\n",
       "\t<tr><th scope=row>RBC</th><td> 0.677</td><td>0.499 </td></tr>\n",
       "\t<tr><th scope=row>SHORTLOSS</th><td> 2.621</td><td>0.009 </td></tr>\n",
       "\t<tr><th scope=row>GPWCOMM</th><td>-0.494</td><td>0.622 </td></tr>\n",
       "\t<tr><th scope=row>MUTUAL</th><td>-0.276</td><td>0.783 </td></tr>\n",
       "\t<tr><th scope=row>RBC2</th><td>-0.418</td><td>0.676 </td></tr>\n",
       "\t<tr><th scope=row>GPWPERSONAL2</th><td> 1.327</td><td>0.186 </td></tr>\n",
       "\t<tr><th scope=row>CASH2</th><td>-0.875</td><td>0.382 </td></tr>\n",
       "\t<tr><th scope=row>GPWCOMM2</th><td> 0.130</td><td>0.896 </td></tr>\n",
       "\t<tr><th scope=row>Tukey test</th><td> 2.883</td><td>0.004 </td></tr>\n",
       "</tbody>\n",
       "</table>\n"
      ],
      "text/latex": [
       "\\begin{tabular}{r|ll}\n",
       "  & Test stat & Pr(>\\textbar{}t\\textbar{})\\\\\n",
       "\\hline\n",
       "\tRBC &  0.677 & 0.499 \\\\\n",
       "\tSHORTLOSS &  2.621 & 0.009 \\\\\n",
       "\tGPWCOMM & -0.494 & 0.622 \\\\\n",
       "\tMUTUAL & -0.276 & 0.783 \\\\\n",
       "\tRBC2 & -0.418 & 0.676 \\\\\n",
       "\tGPWPERSONAL2 &  1.327 & 0.186 \\\\\n",
       "\tCASH2 & -0.875 & 0.382 \\\\\n",
       "\tGPWCOMM2 &  0.130 & 0.896 \\\\\n",
       "\tTukey test &  2.883 & 0.004 \\\\\n",
       "\\end{tabular}\n"
      ],
      "text/markdown": [
       "\n",
       "| <!--/--> | Test stat | Pr(>|t|) | \n",
       "|---|---|---|---|---|---|---|---|---|\n",
       "| RBC |  0.677 | 0.499  | \n",
       "| SHORTLOSS |  2.621 | 0.009  | \n",
       "| GPWCOMM | -0.494 | 0.622  | \n",
       "| MUTUAL | -0.276 | 0.783  | \n",
       "| RBC2 | -0.418 | 0.676  | \n",
       "| GPWPERSONAL2 |  1.327 | 0.186  | \n",
       "| CASH2 | -0.875 | 0.382  | \n",
       "| GPWCOMM2 |  0.130 | 0.896  | \n",
       "| Tukey test |  2.883 | 0.004  | \n",
       "\n",
       "\n"
      ],
      "text/plain": [
       "             Test stat Pr(>|t|)\n",
       "RBC           0.677    0.499   \n",
       "SHORTLOSS     2.621    0.009   \n",
       "GPWCOMM      -0.494    0.622   \n",
       "MUTUAL       -0.276    0.783   \n",
       "RBC2         -0.418    0.676   \n",
       "GPWPERSONAL2  1.327    0.186   \n",
       "CASH2        -0.875    0.382   \n",
       "GPWCOMM2      0.130    0.896   \n",
       "Tukey test    2.883    0.004   "
      ]
     },
     "metadata": {},
     "output_type": "display_data"
    },
    {
     "data": {
      "image/png": "[encoded data removed]",
      "text/plain": [
       "plot without title"
      ]
     },
     "metadata": {},
     "output_type": "display_data"
    }
   ],
   "source": [
    "residualPlots(model4a)"
   ]
  },
  {
   "cell_type": "markdown",
   "metadata": {},
   "source": [
    "<a id=\"step12\"></a>\n",
    "### Step 12: Validation Analysis"
   ]
  },
  {
   "cell_type": "code",
   "execution_count": 247,
   "metadata": {},
   "outputs": [],
   "source": [
    "Quant_colnames <- c(\"RBC\",\"EXPENSES\",\"STAFFWAGE\",\"AGENTWAGE\",\"LONGLOSS\",\n",
    "                    \"SHORTLOSS\",\"GPWPERSONAL\",\"GPWCOMM\",\"ASSETS\",\n",
    "                    \"CASH\",\"LIQUIDRATIO\")\n",
    "Qual_colnames <- c(\"COMPANY_NAME\",\"GROUP\", \"MUTUAL\", \"STOCK\")\n",
    "\n",
    "NAICDataVal <- dplyr::select(NAICDataVal,c(Quant_colnames, Qual_colnames))"
   ]
  },
  {
   "cell_type": "code",
   "execution_count": 275,
   "metadata": {},
   "outputs": [],
   "source": [
    "NAICDataVal$EXPENSES2 <- NAICDataVal$EXPENSES^2\n",
    "NAICDataVal$RBC2 <- NAICDataVal$RBC^2\n",
    "NAICDataVal$SHORTLOSS2 <- NAICDataVal$SHORTLOSS^2\n",
    "NAICDataVal$GPWPERSONAL2 <- NAICDataVal$GPWPERSONAL^2\n",
    "NAICDataVal$CASH2 <- NAICDataVal$CASH^2\n",
    "NAICDataVal$GPWCOMM2 <- NAICDataVal$GPWCOMM^2"
   ]
  },
  {
   "cell_type": "code",
   "execution_count": 276,
   "metadata": {},
   "outputs": [
    {
     "data": {
      "text/html": [
       "<ol class=list-inline>\n",
       "\t<li>'RBC'</li>\n",
       "\t<li>'EXPENSES'</li>\n",
       "\t<li>'STAFFWAGE'</li>\n",
       "\t<li>'AGENTWAGE'</li>\n",
       "\t<li>'LONGLOSS'</li>\n",
       "\t<li>'SHORTLOSS'</li>\n",
       "\t<li>'GPWPERSONAL'</li>\n",
       "\t<li>'GPWCOMM'</li>\n",
       "\t<li>'ASSETS'</li>\n",
       "\t<li>'CASH'</li>\n",
       "\t<li>'LIQUIDRATIO'</li>\n",
       "\t<li>'COMPANY_NAME'</li>\n",
       "\t<li>'GROUP'</li>\n",
       "\t<li>'MUTUAL'</li>\n",
       "\t<li>'STOCK'</li>\n",
       "\t<li>'EXPENSES2'</li>\n",
       "\t<li>'RBC2'</li>\n",
       "\t<li>'SHORTLOSS2'</li>\n",
       "\t<li>'GPWPERSONAL2'</li>\n",
       "\t<li>'CASH2'</li>\n",
       "\t<li>'GPWCOMM2'</li>\n",
       "</ol>\n"
      ],
      "text/latex": [
       "\\begin{enumerate*}\n",
       "\\item 'RBC'\n",
       "\\item 'EXPENSES'\n",
       "\\item 'STAFFWAGE'\n",
       "\\item 'AGENTWAGE'\n",
       "\\item 'LONGLOSS'\n",
       "\\item 'SHORTLOSS'\n",
       "\\item 'GPWPERSONAL'\n",
       "\\item 'GPWCOMM'\n",
       "\\item 'ASSETS'\n",
       "\\item 'CASH'\n",
       "\\item 'LIQUIDRATIO'\n",
       "\\item 'COMPANY\\_NAME'\n",
       "\\item 'GROUP'\n",
       "\\item 'MUTUAL'\n",
       "\\item 'STOCK'\n",
       "\\item 'EXPENSES2'\n",
       "\\item 'RBC2'\n",
       "\\item 'SHORTLOSS2'\n",
       "\\item 'GPWPERSONAL2'\n",
       "\\item 'CASH2'\n",
       "\\item 'GPWCOMM2'\n",
       "\\end{enumerate*}\n"
      ],
      "text/markdown": [
       "1. 'RBC'\n",
       "2. 'EXPENSES'\n",
       "3. 'STAFFWAGE'\n",
       "4. 'AGENTWAGE'\n",
       "5. 'LONGLOSS'\n",
       "6. 'SHORTLOSS'\n",
       "7. 'GPWPERSONAL'\n",
       "8. 'GPWCOMM'\n",
       "9. 'ASSETS'\n",
       "10. 'CASH'\n",
       "11. 'LIQUIDRATIO'\n",
       "12. 'COMPANY_NAME'\n",
       "13. 'GROUP'\n",
       "14. 'MUTUAL'\n",
       "15. 'STOCK'\n",
       "16. 'EXPENSES2'\n",
       "17. 'RBC2'\n",
       "18. 'SHORTLOSS2'\n",
       "19. 'GPWPERSONAL2'\n",
       "20. 'CASH2'\n",
       "21. 'GPWCOMM2'\n",
       "\n",
       "\n"
      ],
      "text/plain": [
       " [1] \"RBC\"          \"EXPENSES\"     \"STAFFWAGE\"    \"AGENTWAGE\"    \"LONGLOSS\"    \n",
       " [6] \"SHORTLOSS\"    \"GPWPERSONAL\"  \"GPWCOMM\"      \"ASSETS\"       \"CASH\"        \n",
       "[11] \"LIQUIDRATIO\"  \"COMPANY_NAME\" \"GROUP\"        \"MUTUAL\"       \"STOCK\"       \n",
       "[16] \"EXPENSES2\"    \"RBC2\"         \"SHORTLOSS2\"   \"GPWPERSONAL2\" \"CASH2\"       \n",
       "[21] \"GPWCOMM2\"    "
      ]
     },
     "metadata": {},
     "output_type": "display_data"
    }
   ],
   "source": [
    "names(NAICDataVal)\n"
   ]
  },
  {
   "cell_type": "code",
   "execution_count": 279,
   "metadata": {},
   "outputs": [
    {
     "data": {
      "text/plain": [
       "\n",
       "Call:\n",
       "lm(formula = EXPENSES2 ~ RBC + SHORTLOSS + GPWCOMM + MUTUAL + \n",
       "    RBC2 + GPWPERSONAL2 + CASH2 + GPWCOMM2, data = NAICDataVal[-c(314), \n",
       "    -c(2, 3, 5, 9, 11, 12, 18, 7, 22)])\n",
       "\n",
       "Residuals:\n",
       "       Min         1Q     Median         3Q        Max \n",
       "-0.0111102 -0.0011736  0.0001289  0.0008603  0.0258167 \n",
       "\n",
       "Coefficients:\n",
       "               Estimate Std. Error t value Pr(>|t|)    \n",
       "(Intercept)  -9.713e-04  6.807e-04  -1.427 0.158136    \n",
       "RBC          -4.551e-14  3.390e-14  -1.343 0.183879    \n",
       "SHORTLOSS     2.423e-02  2.158e-02   1.122 0.265619    \n",
       "GPWCOMM       3.262e-02  7.881e-03   4.139 9.83e-05 ***\n",
       "MUTUAL        4.903e-04  2.228e-03   0.220 0.826476    \n",
       "RBC2         -2.258e-25  4.156e-26  -5.433 8.08e-07 ***\n",
       "GPWPERSONAL2  3.561e-02  2.409e-02   1.478 0.143947    \n",
       "CASH2         1.159e-02  6.886e-04  16.827  < 2e-16 ***\n",
       "GPWCOMM2     -3.588e-02  8.987e-03  -3.993 0.000163 ***\n",
       "---\n",
       "Signif. codes:  0 '***' 0.001 '**' 0.01 '*' 0.05 '.' 0.1 ' ' 1\n",
       "\n",
       "Residual standard error: 0.004292 on 68 degrees of freedom\n",
       "Multiple R-squared:  0.9365,\tAdjusted R-squared:  0.9291 \n",
       "F-statistic: 125.4 on 8 and 68 DF,  p-value: < 2.2e-16\n"
      ]
     },
     "metadata": {},
     "output_type": "display_data"
    }
   ],
   "source": [
    "model5 <- lm(formula = EXPENSES2 ~ RBC + SHORTLOSS + GPWCOMM + MUTUAL + \n",
    "    RBC2 + GPWPERSONAL2 + CASH2 + GPWCOMM2,data=NAICDataVal[-c(314),-c(2,3,5,9,11,12,18,7,22)])\n",
    "summary(model5)"
   ]
  },
  {
   "cell_type": "code",
   "execution_count": 280,
   "metadata": {
    "scrolled": true
   },
   "outputs": [
    {
     "data": {
      "text/html": [
       "<table>\n",
       "<thead><tr><th></th><th scope=col>Test stat</th><th scope=col>Pr(&gt;|t|)</th></tr></thead>\n",
       "<tbody>\n",
       "\t<tr><th scope=row>RBC</th><td>-3.352</td><td>0.001 </td></tr>\n",
       "\t<tr><th scope=row>SHORTLOSS</th><td> 1.465</td><td>0.147 </td></tr>\n",
       "\t<tr><th scope=row>GPWCOMM</th><td>-0.284</td><td>0.778 </td></tr>\n",
       "\t<tr><th scope=row>MUTUAL</th><td>-0.621</td><td>0.537 </td></tr>\n",
       "\t<tr><th scope=row>RBC2</th><td> 0.760</td><td>0.450 </td></tr>\n",
       "\t<tr><th scope=row>GPWPERSONAL2</th><td>-2.974</td><td>0.004 </td></tr>\n",
       "\t<tr><th scope=row>CASH2</th><td> 0.746</td><td>0.458 </td></tr>\n",
       "\t<tr><th scope=row>GPWCOMM2</th><td>-0.643</td><td>0.523 </td></tr>\n",
       "\t<tr><th scope=row>Tukey test</th><td> 0.176</td><td>0.860 </td></tr>\n",
       "</tbody>\n",
       "</table>\n"
      ],
      "text/latex": [
       "\\begin{tabular}{r|ll}\n",
       "  & Test stat & Pr(>\\textbar{}t\\textbar{})\\\\\n",
       "\\hline\n",
       "\tRBC & -3.352 & 0.001 \\\\\n",
       "\tSHORTLOSS &  1.465 & 0.147 \\\\\n",
       "\tGPWCOMM & -0.284 & 0.778 \\\\\n",
       "\tMUTUAL & -0.621 & 0.537 \\\\\n",
       "\tRBC2 &  0.760 & 0.450 \\\\\n",
       "\tGPWPERSONAL2 & -2.974 & 0.004 \\\\\n",
       "\tCASH2 &  0.746 & 0.458 \\\\\n",
       "\tGPWCOMM2 & -0.643 & 0.523 \\\\\n",
       "\tTukey test &  0.176 & 0.860 \\\\\n",
       "\\end{tabular}\n"
      ],
      "text/markdown": [
       "\n",
       "| <!--/--> | Test stat | Pr(>|t|) | \n",
       "|---|---|---|---|---|---|---|---|---|\n",
       "| RBC | -3.352 | 0.001  | \n",
       "| SHORTLOSS |  1.465 | 0.147  | \n",
       "| GPWCOMM | -0.284 | 0.778  | \n",
       "| MUTUAL | -0.621 | 0.537  | \n",
       "| RBC2 |  0.760 | 0.450  | \n",
       "| GPWPERSONAL2 | -2.974 | 0.004  | \n",
       "| CASH2 |  0.746 | 0.458  | \n",
       "| GPWCOMM2 | -0.643 | 0.523  | \n",
       "| Tukey test |  0.176 | 0.860  | \n",
       "\n",
       "\n"
      ],
      "text/plain": [
       "             Test stat Pr(>|t|)\n",
       "RBC          -3.352    0.001   \n",
       "SHORTLOSS     1.465    0.147   \n",
       "GPWCOMM      -0.284    0.778   \n",
       "MUTUAL       -0.621    0.537   \n",
       "RBC2          0.760    0.450   \n",
       "GPWPERSONAL2 -2.974    0.004   \n",
       "CASH2         0.746    0.458   \n",
       "GPWCOMM2     -0.643    0.523   \n",
       "Tukey test    0.176    0.860   "
      ]
     },
     "metadata": {},
     "output_type": "display_data"
    },
    {
     "data": {
      "image/png": "[encoded data removed]",
      "text/plain": [
       "plot without title"
      ]
     },
     "metadata": {},
     "output_type": "display_data"
    }
   ],
   "source": [
    "residualPlots(model5)"
   ]
  },
  {
   "cell_type": "markdown",
   "metadata": {},
   "source": [
    "<a id=\"step13\"></a>\n",
    "### Step 13: Model on Full Data"
   ]
  },
  {
   "cell_type": "code",
   "execution_count": 282,
   "metadata": {},
   "outputs": [],
   "source": [
    "Quant_colnames <- c(\"RBC\",\"EXPENSES\",\"STAFFWAGE\",\"AGENTWAGE\",\"LONGLOSS\",\n",
    "                    \"SHORTLOSS\",\"GPWPERSONAL\",\"GPWCOMM\",\"ASSETS\",\n",
    "                    \"CASH\",\"LIQUIDRATIO\")\n",
    "Qual_colnames <- c(\"COMPANY_NAME\",\"GROUP\", \"MUTUAL\", \"STOCK\")\n",
    "\n",
    "NAICDataFull <- dplyr::select(NAICDataFull,c(Quant_colnames, Qual_colnames))\n",
    "\n",
    "\n",
    "NAICDataFull$EXPENSES2 <- NAICDataFull$EXPENSES^2\n",
    "NAICDataFull$RBC2 <- NAICDataFull$RBC^2\n",
    "NAICDataFull$SHORTLOSS2 <- NAICDataFull$SHORTLOSS^2\n",
    "NAICDataFull$GPWPERSONAL2 <- NAICDataFull$GPWPERSONAL^2\n",
    "NAICDataFull$CASH2 <- NAICDataFull$CASH^2\n",
    "NAICDataFull$GPWCOMM2 <- NAICDataFull$GPWCOMM^2"
   ]
  },
  {
   "cell_type": "code",
   "execution_count": 283,
   "metadata": {},
   "outputs": [
    {
     "data": {
      "text/plain": [
       "\n",
       "Call:\n",
       "lm(formula = EXPENSES2 ~ RBC + SHORTLOSS + GPWCOMM + MUTUAL + \n",
       "    RBC2 + GPWPERSONAL2 + CASH2 + GPWCOMM2, data = NAICDataFull[-c(314), \n",
       "    -c(2, 3, 5, 9, 11, 12, 18, 7, 22)])\n",
       "\n",
       "Residuals:\n",
       "     Min       1Q   Median       3Q      Max \n",
       "-0.38162  0.00003  0.00057  0.00198  0.45430 \n",
       "\n",
       "Coefficients:\n",
       "               Estimate Std. Error t value Pr(>|t|)    \n",
       "(Intercept)  -2.941e-06  2.310e-03  -0.001 0.998985    \n",
       "RBC          -4.507e-14  1.446e-13  -0.312 0.755399    \n",
       "SHORTLOSS     1.472e-01  4.365e-02   3.373 0.000822 ***\n",
       "GPWCOMM      -5.852e-02  2.075e-02  -2.820 0.005063 ** \n",
       "MUTUAL       -1.055e-03  4.689e-03  -0.225 0.822034    \n",
       "RBC2          5.471e-25  3.737e-25   1.464 0.144042    \n",
       "GPWPERSONAL2  2.006e-01  1.237e-02  16.222  < 2e-16 ***\n",
       "CASH2         2.914e-03  4.388e-04   6.641 1.10e-10 ***\n",
       "GPWCOMM2      6.550e-02  7.932e-03   8.258 2.59e-15 ***\n",
       "---\n",
       "Signif. codes:  0 '***' 0.001 '**' 0.01 '*' 0.05 '.' 0.1 ' ' 1\n",
       "\n",
       "Residual standard error: 0.03572 on 374 degrees of freedom\n",
       "Multiple R-squared:  0.9094,\tAdjusted R-squared:  0.9075 \n",
       "F-statistic: 469.4 on 8 and 374 DF,  p-value: < 2.2e-16\n"
      ]
     },
     "metadata": {},
     "output_type": "display_data"
    }
   ],
   "source": [
    "model6 <- lm(formula = EXPENSES2 ~ RBC + SHORTLOSS + GPWCOMM + MUTUAL + \n",
    "    RBC2 + GPWPERSONAL2 + CASH2 + GPWCOMM2,data=NAICDataFull[-c(314),-c(2,3,5,9,11,12,18,7,22)])\n",
    "summary(model6)"
   ]
  },
  {
   "cell_type": "code",
   "execution_count": 284,
   "metadata": {},
   "outputs": [
    {
     "data": {
      "text/html": [
       "<table>\n",
       "<thead><tr><th></th><th scope=col>Test stat</th><th scope=col>Pr(&gt;|t|)</th></tr></thead>\n",
       "<tbody>\n",
       "\t<tr><th scope=row>RBC</th><td> 0.663</td><td>0.508 </td></tr>\n",
       "\t<tr><th scope=row>SHORTLOSS</th><td> 1.800</td><td>0.073 </td></tr>\n",
       "\t<tr><th scope=row>GPWCOMM</th><td>-1.380</td><td>0.168 </td></tr>\n",
       "\t<tr><th scope=row>MUTUAL</th><td> 0.023</td><td>0.982 </td></tr>\n",
       "\t<tr><th scope=row>RBC2</th><td>-7.924</td><td>0.000 </td></tr>\n",
       "\t<tr><th scope=row>GPWPERSONAL2</th><td>-5.506</td><td>0.000 </td></tr>\n",
       "\t<tr><th scope=row>CASH2</th><td> 6.004</td><td>0.000 </td></tr>\n",
       "\t<tr><th scope=row>GPWCOMM2</th><td>-9.834</td><td>0.000 </td></tr>\n",
       "\t<tr><th scope=row>Tukey test</th><td>10.384</td><td>0.000 </td></tr>\n",
       "</tbody>\n",
       "</table>\n"
      ],
      "text/latex": [
       "\\begin{tabular}{r|ll}\n",
       "  & Test stat & Pr(>\\textbar{}t\\textbar{})\\\\\n",
       "\\hline\n",
       "\tRBC &  0.663 & 0.508 \\\\\n",
       "\tSHORTLOSS &  1.800 & 0.073 \\\\\n",
       "\tGPWCOMM & -1.380 & 0.168 \\\\\n",
       "\tMUTUAL &  0.023 & 0.982 \\\\\n",
       "\tRBC2 & -7.924 & 0.000 \\\\\n",
       "\tGPWPERSONAL2 & -5.506 & 0.000 \\\\\n",
       "\tCASH2 &  6.004 & 0.000 \\\\\n",
       "\tGPWCOMM2 & -9.834 & 0.000 \\\\\n",
       "\tTukey test & 10.384 & 0.000 \\\\\n",
       "\\end{tabular}\n"
      ],
      "text/markdown": [
       "\n",
       "| <!--/--> | Test stat | Pr(>|t|) | \n",
       "|---|---|---|---|---|---|---|---|---|\n",
       "| RBC |  0.663 | 0.508  | \n",
       "| SHORTLOSS |  1.800 | 0.073  | \n",
       "| GPWCOMM | -1.380 | 0.168  | \n",
       "| MUTUAL |  0.023 | 0.982  | \n",
       "| RBC2 | -7.924 | 0.000  | \n",
       "| GPWPERSONAL2 | -5.506 | 0.000  | \n",
       "| CASH2 |  6.004 | 0.000  | \n",
       "| GPWCOMM2 | -9.834 | 0.000  | \n",
       "| Tukey test | 10.384 | 0.000  | \n",
       "\n",
       "\n"
      ],
      "text/plain": [
       "             Test stat Pr(>|t|)\n",
       "RBC           0.663    0.508   \n",
       "SHORTLOSS     1.800    0.073   \n",
       "GPWCOMM      -1.380    0.168   \n",
       "MUTUAL        0.023    0.982   \n",
       "RBC2         -7.924    0.000   \n",
       "GPWPERSONAL2 -5.506    0.000   \n",
       "CASH2         6.004    0.000   \n",
       "GPWCOMM2     -9.834    0.000   \n",
       "Tukey test   10.384    0.000   "
      ]
     },
     "metadata": {},
     "output_type": "display_data"
    },
    {
     "data": {
      "image/png": "[encoded data removed]",
      "text/plain": [
       "plot without title"
      ]
     },
     "metadata": {},
     "output_type": "display_data"
    }
   ],
   "source": [
    "residualPlots(model6)"
   ]
  },
  {
   "cell_type": "code",
   "execution_count": 288,
   "metadata": {},
   "outputs": [
    {
     "data": {
      "text/html": [
       "<ol class=list-inline>\n",
       "\t<li>'RBC'</li>\n",
       "\t<li>'EXPENSES'</li>\n",
       "\t<li>'STAFFWAGE'</li>\n",
       "\t<li>'AGENTWAGE'</li>\n",
       "\t<li>'LONGLOSS'</li>\n",
       "\t<li>'SHORTLOSS'</li>\n",
       "\t<li>'GPWPERSONAL'</li>\n",
       "\t<li>'GPWCOMM'</li>\n",
       "\t<li>'ASSETS'</li>\n",
       "\t<li>'CASH'</li>\n",
       "\t<li>'LIQUIDRATIO'</li>\n",
       "\t<li>'COMPANY_NAME'</li>\n",
       "\t<li>'GROUP'</li>\n",
       "\t<li>'MUTUAL'</li>\n",
       "\t<li>'STOCK'</li>\n",
       "\t<li>'EXPENSES2'</li>\n",
       "\t<li>'RBC2'</li>\n",
       "\t<li>'SHORTLOSS2'</li>\n",
       "\t<li>'GPWPERSONAL2'</li>\n",
       "\t<li>'CASH2'</li>\n",
       "\t<li>'GPWCOMM2'</li>\n",
       "</ol>\n"
      ],
      "text/latex": [
       "\\begin{enumerate*}\n",
       "\\item 'RBC'\n",
       "\\item 'EXPENSES'\n",
       "\\item 'STAFFWAGE'\n",
       "\\item 'AGENTWAGE'\n",
       "\\item 'LONGLOSS'\n",
       "\\item 'SHORTLOSS'\n",
       "\\item 'GPWPERSONAL'\n",
       "\\item 'GPWCOMM'\n",
       "\\item 'ASSETS'\n",
       "\\item 'CASH'\n",
       "\\item 'LIQUIDRATIO'\n",
       "\\item 'COMPANY\\_NAME'\n",
       "\\item 'GROUP'\n",
       "\\item 'MUTUAL'\n",
       "\\item 'STOCK'\n",
       "\\item 'EXPENSES2'\n",
       "\\item 'RBC2'\n",
       "\\item 'SHORTLOSS2'\n",
       "\\item 'GPWPERSONAL2'\n",
       "\\item 'CASH2'\n",
       "\\item 'GPWCOMM2'\n",
       "\\end{enumerate*}\n"
      ],
      "text/markdown": [
       "1. 'RBC'\n",
       "2. 'EXPENSES'\n",
       "3. 'STAFFWAGE'\n",
       "4. 'AGENTWAGE'\n",
       "5. 'LONGLOSS'\n",
       "6. 'SHORTLOSS'\n",
       "7. 'GPWPERSONAL'\n",
       "8. 'GPWCOMM'\n",
       "9. 'ASSETS'\n",
       "10. 'CASH'\n",
       "11. 'LIQUIDRATIO'\n",
       "12. 'COMPANY_NAME'\n",
       "13. 'GROUP'\n",
       "14. 'MUTUAL'\n",
       "15. 'STOCK'\n",
       "16. 'EXPENSES2'\n",
       "17. 'RBC2'\n",
       "18. 'SHORTLOSS2'\n",
       "19. 'GPWPERSONAL2'\n",
       "20. 'CASH2'\n",
       "21. 'GPWCOMM2'\n",
       "\n",
       "\n"
      ],
      "text/plain": [
       " [1] \"RBC\"          \"EXPENSES\"     \"STAFFWAGE\"    \"AGENTWAGE\"    \"LONGLOSS\"    \n",
       " [6] \"SHORTLOSS\"    \"GPWPERSONAL\"  \"GPWCOMM\"      \"ASSETS\"       \"CASH\"        \n",
       "[11] \"LIQUIDRATIO\"  \"COMPANY_NAME\" \"GROUP\"        \"MUTUAL\"       \"STOCK\"       \n",
       "[16] \"EXPENSES2\"    \"RBC2\"         \"SHORTLOSS2\"   \"GPWPERSONAL2\" \"CASH2\"       \n",
       "[21] \"GPWCOMM2\"    "
      ]
     },
     "metadata": {},
     "output_type": "display_data"
    },
    {
     "data": {
      "text/plain": [
       "\n",
       "Call:\n",
       "lm(formula = EXPENSES2 ~ RBC + SHORTLOSS + GPWCOMM + MUTUAL + \n",
       "    RBC2 + GPWPERSONAL + GPWPERSONAL2 + CASH2 + GPWCOMM2, data = NAICDataFull[-c(314), \n",
       "    -c(2, 3, 5, 9, 11, 12, 18, 22)])\n",
       "\n",
       "Residuals:\n",
       "     Min       1Q   Median       3Q      Max \n",
       "-0.37740  0.00012  0.00064  0.00216  0.45606 \n",
       "\n",
       "Coefficients:\n",
       "               Estimate Std. Error t value Pr(>|t|)    \n",
       "(Intercept)  -1.247e-04  2.323e-03  -0.054  0.95723    \n",
       "RBC          -5.324e-14  1.455e-13  -0.366  0.71466    \n",
       "SHORTLOSS     1.442e-01  4.406e-02   3.273  0.00116 ** \n",
       "GPWCOMM      -5.961e-02  2.087e-02  -2.856  0.00454 ** \n",
       "MUTUAL       -1.384e-03  4.734e-03  -0.292  0.77023    \n",
       "RBC2          5.684e-25  3.762e-25   1.511  0.13164    \n",
       "GPWPERSONAL   1.412e-02  2.651e-02   0.533  0.59456    \n",
       "GPWPERSONAL2  1.930e-01  1.895e-02  10.187  < 2e-16 ***\n",
       "CASH2         2.939e-03  4.417e-04   6.653 1.02e-10 ***\n",
       "GPWCOMM2      6.537e-02  7.943e-03   8.230 3.17e-15 ***\n",
       "---\n",
       "Signif. codes:  0 '***' 0.001 '**' 0.01 '*' 0.05 '.' 0.1 ' ' 1\n",
       "\n",
       "Residual standard error: 0.03575 on 373 degrees of freedom\n",
       "Multiple R-squared:  0.9095,\tAdjusted R-squared:  0.9073 \n",
       "F-statistic: 416.5 on 9 and 373 DF,  p-value: < 2.2e-16\n"
      ]
     },
     "metadata": {},
     "output_type": "display_data"
    }
   ],
   "source": [
    "names(NAICDataFull)\n",
    "model6a <- lm(formula = EXPENSES2 ~ RBC + SHORTLOSS + GPWCOMM + MUTUAL + \n",
    "    RBC2 + GPWPERSONAL + GPWPERSONAL2 + CASH2 + GPWCOMM2,data=NAICDataFull[-c(314),-c(2,3,5,9,11,12,18,22)])\n",
    "summary(model6a)\n"
   ]
  },
  {
   "cell_type": "code",
   "execution_count": 289,
   "metadata": {},
   "outputs": [
    {
     "data": {
      "image/png": "[encoded data removed]",
      "text/plain": [
       "plot without title"
      ]
     },
     "metadata": {},
     "output_type": "display_data"
    },
    {
     "data": {
      "text/html": [
       "<table>\n",
       "<thead><tr><th></th><th scope=col>Test stat</th><th scope=col>Pr(&gt;|t|)</th></tr></thead>\n",
       "<tbody>\n",
       "\t<tr><th scope=row>RBC</th><td>  0.583</td><td>0.560  </td></tr>\n",
       "\t<tr><th scope=row>SHORTLOSS</th><td>  2.021</td><td>0.044  </td></tr>\n",
       "\t<tr><th scope=row>GPWCOMM</th><td> -0.735</td><td>0.463  </td></tr>\n",
       "\t<tr><th scope=row>MUTUAL</th><td>  0.037</td><td>0.971  </td></tr>\n",
       "\t<tr><th scope=row>RBC2</th><td> -8.299</td><td>0.000  </td></tr>\n",
       "\t<tr><th scope=row>GPWPERSONAL</th><td> -1.128</td><td>0.260  </td></tr>\n",
       "\t<tr><th scope=row>GPWPERSONAL2</th><td> -9.911</td><td>0.000  </td></tr>\n",
       "\t<tr><th scope=row>CASH2</th><td>  6.011</td><td>0.000  </td></tr>\n",
       "\t<tr><th scope=row>GPWCOMM2</th><td>-10.503</td><td>0.000  </td></tr>\n",
       "\t<tr><th scope=row>Tukey test</th><td> 13.216</td><td>0.000  </td></tr>\n",
       "</tbody>\n",
       "</table>\n"
      ],
      "text/latex": [
       "\\begin{tabular}{r|ll}\n",
       "  & Test stat & Pr(>\\textbar{}t\\textbar{})\\\\\n",
       "\\hline\n",
       "\tRBC &   0.583 & 0.560  \\\\\n",
       "\tSHORTLOSS &   2.021 & 0.044  \\\\\n",
       "\tGPWCOMM &  -0.735 & 0.463  \\\\\n",
       "\tMUTUAL &   0.037 & 0.971  \\\\\n",
       "\tRBC2 &  -8.299 & 0.000  \\\\\n",
       "\tGPWPERSONAL &  -1.128 & 0.260  \\\\\n",
       "\tGPWPERSONAL2 &  -9.911 & 0.000  \\\\\n",
       "\tCASH2 &   6.011 & 0.000  \\\\\n",
       "\tGPWCOMM2 & -10.503 & 0.000  \\\\\n",
       "\tTukey test &  13.216 & 0.000  \\\\\n",
       "\\end{tabular}\n"
      ],
      "text/markdown": [
       "\n",
       "| <!--/--> | Test stat | Pr(>|t|) | \n",
       "|---|---|---|---|---|---|---|---|---|---|\n",
       "| RBC |   0.583 | 0.560   | \n",
       "| SHORTLOSS |   2.021 | 0.044   | \n",
       "| GPWCOMM |  -0.735 | 0.463   | \n",
       "| MUTUAL |   0.037 | 0.971   | \n",
       "| RBC2 |  -8.299 | 0.000   | \n",
       "| GPWPERSONAL |  -1.128 | 0.260   | \n",
       "| GPWPERSONAL2 |  -9.911 | 0.000   | \n",
       "| CASH2 |   6.011 | 0.000   | \n",
       "| GPWCOMM2 | -10.503 | 0.000   | \n",
       "| Tukey test |  13.216 | 0.000   | \n",
       "\n",
       "\n"
      ],
      "text/plain": [
       "             Test stat Pr(>|t|)\n",
       "RBC            0.583   0.560   \n",
       "SHORTLOSS      2.021   0.044   \n",
       "GPWCOMM       -0.735   0.463   \n",
       "MUTUAL         0.037   0.971   \n",
       "RBC2          -8.299   0.000   \n",
       "GPWPERSONAL   -1.128   0.260   \n",
       "GPWPERSONAL2  -9.911   0.000   \n",
       "CASH2          6.011   0.000   \n",
       "GPWCOMM2     -10.503   0.000   \n",
       "Tukey test    13.216   0.000   "
      ]
     },
     "metadata": {},
     "output_type": "display_data"
    },
    {
     "data": {
      "image/png": "[encoded data removed]",
      "text/plain": [
       "plot without title"
      ]
     },
     "metadata": {},
     "output_type": "display_data"
    }
   ],
   "source": [
    "residualPlots(model6a)"
   ]
  },
  {
   "cell_type": "code",
   "execution_count": 290,
   "metadata": {},
   "outputs": [
    {
     "data": {
      "image/png": "[encoded data removed]",
      "text/plain": [
       "plot without title"
      ]
     },
     "metadata": {},
     "output_type": "display_data"
    },
    {
     "data": {
      "image/png": "[encoded data removed]",
      "text/plain": [
       "Plot with title \"\""
      ]
     },
     "metadata": {},
     "output_type": "display_data"
    }
   ],
   "source": [
    "DeletionDiagonsitics(model6a,0.05)"
   ]
  },
  {
   "cell_type": "code",
   "execution_count": 297,
   "metadata": {
    "scrolled": true
   },
   "outputs": [
    {
     "data": {
      "text/html": [
       "<ol class=list-inline>\n",
       "\t<li>'RBC'</li>\n",
       "\t<li>'EXPENSES'</li>\n",
       "\t<li>'STAFFWAGE'</li>\n",
       "\t<li>'AGENTWAGE'</li>\n",
       "\t<li>'LONGLOSS'</li>\n",
       "\t<li>'SHORTLOSS'</li>\n",
       "\t<li>'GPWPERSONAL'</li>\n",
       "\t<li>'GPWCOMM'</li>\n",
       "\t<li>'ASSETS'</li>\n",
       "\t<li>'CASH'</li>\n",
       "\t<li>'LIQUIDRATIO'</li>\n",
       "\t<li>'COMPANY_NAME'</li>\n",
       "\t<li>'GROUP'</li>\n",
       "\t<li>'MUTUAL'</li>\n",
       "\t<li>'STOCK'</li>\n",
       "\t<li>'EXPENSES2'</li>\n",
       "\t<li>'RBC2'</li>\n",
       "\t<li>'SHORTLOSS2'</li>\n",
       "\t<li>'GPWPERSONAL2'</li>\n",
       "\t<li>'CASH2'</li>\n",
       "\t<li>'GPWCOMM2'</li>\n",
       "</ol>\n"
      ],
      "text/latex": [
       "\\begin{enumerate*}\n",
       "\\item 'RBC'\n",
       "\\item 'EXPENSES'\n",
       "\\item 'STAFFWAGE'\n",
       "\\item 'AGENTWAGE'\n",
       "\\item 'LONGLOSS'\n",
       "\\item 'SHORTLOSS'\n",
       "\\item 'GPWPERSONAL'\n",
       "\\item 'GPWCOMM'\n",
       "\\item 'ASSETS'\n",
       "\\item 'CASH'\n",
       "\\item 'LIQUIDRATIO'\n",
       "\\item 'COMPANY\\_NAME'\n",
       "\\item 'GROUP'\n",
       "\\item 'MUTUAL'\n",
       "\\item 'STOCK'\n",
       "\\item 'EXPENSES2'\n",
       "\\item 'RBC2'\n",
       "\\item 'SHORTLOSS2'\n",
       "\\item 'GPWPERSONAL2'\n",
       "\\item 'CASH2'\n",
       "\\item 'GPWCOMM2'\n",
       "\\end{enumerate*}\n"
      ],
      "text/markdown": [
       "1. 'RBC'\n",
       "2. 'EXPENSES'\n",
       "3. 'STAFFWAGE'\n",
       "4. 'AGENTWAGE'\n",
       "5. 'LONGLOSS'\n",
       "6. 'SHORTLOSS'\n",
       "7. 'GPWPERSONAL'\n",
       "8. 'GPWCOMM'\n",
       "9. 'ASSETS'\n",
       "10. 'CASH'\n",
       "11. 'LIQUIDRATIO'\n",
       "12. 'COMPANY_NAME'\n",
       "13. 'GROUP'\n",
       "14. 'MUTUAL'\n",
       "15. 'STOCK'\n",
       "16. 'EXPENSES2'\n",
       "17. 'RBC2'\n",
       "18. 'SHORTLOSS2'\n",
       "19. 'GPWPERSONAL2'\n",
       "20. 'CASH2'\n",
       "21. 'GPWCOMM2'\n",
       "\n",
       "\n"
      ],
      "text/plain": [
       " [1] \"RBC\"          \"EXPENSES\"     \"STAFFWAGE\"    \"AGENTWAGE\"    \"LONGLOSS\"    \n",
       " [6] \"SHORTLOSS\"    \"GPWPERSONAL\"  \"GPWCOMM\"      \"ASSETS\"       \"CASH\"        \n",
       "[11] \"LIQUIDRATIO\"  \"COMPANY_NAME\" \"GROUP\"        \"MUTUAL\"       \"STOCK\"       \n",
       "[16] \"EXPENSES2\"    \"RBC2\"         \"SHORTLOSS2\"   \"GPWPERSONAL2\" \"CASH2\"       \n",
       "[21] \"GPWCOMM2\"    "
      ]
     },
     "metadata": {},
     "output_type": "display_data"
    },
    {
     "data": {
      "text/plain": [
       "\n",
       "Call:\n",
       "lm(formula = EXPENSES2 ~ RBC + SHORTLOSS + GPWCOMM + MUTUAL + \n",
       "    RBC2 + GPWPERSONAL + GPWPERSONAL2 + CASH2 + GPWCOMM2, data = NAICDataFull[-c(248, \n",
       "    194, 175, 209, 245, 314), -c(2, 3, 5, 9, 11, 12, 18, 22)])\n",
       "\n",
       "Residuals:\n",
       "      Min        1Q    Median        3Q       Max \n",
       "-0.062218 -0.000737 -0.000239  0.001213  0.066301 \n",
       "\n",
       "Coefficients:\n",
       "               Estimate Std. Error t value Pr(>|t|)    \n",
       "(Intercept)   7.486e-04  7.366e-04   1.016  0.31011    \n",
       "RBC           2.135e-14  5.323e-14   0.401  0.68863    \n",
       "SHORTLOSS     7.839e-02  1.904e-02   4.118 4.72e-05 ***\n",
       "GPWCOMM      -2.297e-02  1.038e-02  -2.213  0.02751 *  \n",
       "MUTUAL       -1.967e-03  1.414e-03  -1.391  0.16516    \n",
       "RBC2         -5.687e-25  1.833e-25  -3.103  0.00206 ** \n",
       "GPWPERSONAL  -4.028e-02  1.427e-02  -2.823  0.00502 ** \n",
       "GPWPERSONAL2  2.520e-01  2.309e-02  10.913  < 2e-16 ***\n",
       "CASH2         6.132e-03  5.867e-04  10.451  < 2e-16 ***\n",
       "GPWCOMM2      5.448e-02  9.555e-03   5.702 2.44e-08 ***\n",
       "---\n",
       "Signif. codes:  0 '***' 0.001 '**' 0.01 '*' 0.05 '.' 0.1 ' ' 1\n",
       "\n",
       "Residual standard error: 0.01066 on 368 degrees of freedom\n",
       "Multiple R-squared:  0.9334,\tAdjusted R-squared:  0.9318 \n",
       "F-statistic: 573.3 on 9 and 368 DF,  p-value: < 2.2e-16\n"
      ]
     },
     "metadata": {},
     "output_type": "display_data"
    }
   ],
   "source": [
    "names(NAICDataFull)\n",
    "model6a <- lm(formula = EXPENSES2 ~ RBC + SHORTLOSS + GPWCOMM + MUTUAL + \n",
    "    RBC2 + GPWPERSONAL + GPWPERSONAL2 + CASH2 + GPWCOMM2,data=NAICDataFull[-c(248,194,175,209,245,314),-c(2,3,5,9,11,12,18,22)])\n",
    "summary(model6a)"
   ]
  },
  {
   "cell_type": "code",
   "execution_count": 298,
   "metadata": {},
   "outputs": [
    {
     "data": {
      "image/png": "[encoded data removed]",
      "text/plain": [
       "plot without title"
      ]
     },
     "metadata": {},
     "output_type": "display_data"
    },
    {
     "data": {
      "text/html": [
       "<table>\n",
       "<thead><tr><th></th><th scope=col>Test stat</th><th scope=col>Pr(&gt;|t|)</th></tr></thead>\n",
       "<tbody>\n",
       "\t<tr><th scope=row>RBC</th><td> 0.154</td><td>0.878 </td></tr>\n",
       "\t<tr><th scope=row>SHORTLOSS</th><td> 1.816</td><td>0.070 </td></tr>\n",
       "\t<tr><th scope=row>GPWCOMM</th><td> 0.805</td><td>0.422 </td></tr>\n",
       "\t<tr><th scope=row>MUTUAL</th><td>-0.392</td><td>0.695 </td></tr>\n",
       "\t<tr><th scope=row>RBC2</th><td> 4.477</td><td>0.000 </td></tr>\n",
       "\t<tr><th scope=row>GPWPERSONAL</th><td> 0.156</td><td>0.876 </td></tr>\n",
       "\t<tr><th scope=row>GPWPERSONAL2</th><td>-3.145</td><td>0.002 </td></tr>\n",
       "\t<tr><th scope=row>CASH2</th><td> 3.228</td><td>0.001 </td></tr>\n",
       "\t<tr><th scope=row>GPWCOMM2</th><td> 3.817</td><td>0.000 </td></tr>\n",
       "\t<tr><th scope=row>Tukey test</th><td> 3.574</td><td>0.000 </td></tr>\n",
       "</tbody>\n",
       "</table>\n"
      ],
      "text/latex": [
       "\\begin{tabular}{r|ll}\n",
       "  & Test stat & Pr(>\\textbar{}t\\textbar{})\\\\\n",
       "\\hline\n",
       "\tRBC &  0.154 & 0.878 \\\\\n",
       "\tSHORTLOSS &  1.816 & 0.070 \\\\\n",
       "\tGPWCOMM &  0.805 & 0.422 \\\\\n",
       "\tMUTUAL & -0.392 & 0.695 \\\\\n",
       "\tRBC2 &  4.477 & 0.000 \\\\\n",
       "\tGPWPERSONAL &  0.156 & 0.876 \\\\\n",
       "\tGPWPERSONAL2 & -3.145 & 0.002 \\\\\n",
       "\tCASH2 &  3.228 & 0.001 \\\\\n",
       "\tGPWCOMM2 &  3.817 & 0.000 \\\\\n",
       "\tTukey test &  3.574 & 0.000 \\\\\n",
       "\\end{tabular}\n"
      ],
      "text/markdown": [
       "\n",
       "| <!--/--> | Test stat | Pr(>|t|) | \n",
       "|---|---|---|---|---|---|---|---|---|---|\n",
       "| RBC |  0.154 | 0.878  | \n",
       "| SHORTLOSS |  1.816 | 0.070  | \n",
       "| GPWCOMM |  0.805 | 0.422  | \n",
       "| MUTUAL | -0.392 | 0.695  | \n",
       "| RBC2 |  4.477 | 0.000  | \n",
       "| GPWPERSONAL |  0.156 | 0.876  | \n",
       "| GPWPERSONAL2 | -3.145 | 0.002  | \n",
       "| CASH2 |  3.228 | 0.001  | \n",
       "| GPWCOMM2 |  3.817 | 0.000  | \n",
       "| Tukey test |  3.574 | 0.000  | \n",
       "\n",
       "\n"
      ],
      "text/plain": [
       "             Test stat Pr(>|t|)\n",
       "RBC           0.154    0.878   \n",
       "SHORTLOSS     1.816    0.070   \n",
       "GPWCOMM       0.805    0.422   \n",
       "MUTUAL       -0.392    0.695   \n",
       "RBC2          4.477    0.000   \n",
       "GPWPERSONAL   0.156    0.876   \n",
       "GPWPERSONAL2 -3.145    0.002   \n",
       "CASH2         3.228    0.001   \n",
       "GPWCOMM2      3.817    0.000   \n",
       "Tukey test    3.574    0.000   "
      ]
     },
     "metadata": {},
     "output_type": "display_data"
    },
    {
     "data": {
      "image/png": "[encoded data removed]",
      "text/plain": [
       "plot without title"
      ]
     },
     "metadata": {},
     "output_type": "display_data"
    }
   ],
   "source": [
    "residualPlots(model6a)"
   ]
  }
 ],
 "metadata": {
  "kernelspec": {
   "display_name": "Python 3",
   "language": "python",
   "name": "python3"
  },
  "language_info": {
   "codemirror_mode": {
    "name": "ipython",
    "version": 3
   },
   "file_extension": ".py",
   "mimetype": "text/x-python",
   "name": "python",
   "nbconvert_exporter": "python",
   "pygments_lexer": "ipython3",
   "version": "3.6.7"
  }
 },
 "nbformat": 4,
 "nbformat_minor": 2
}
